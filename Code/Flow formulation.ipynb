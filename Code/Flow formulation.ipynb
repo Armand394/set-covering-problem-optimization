{
 "cells": [
  {
   "cell_type": "code",
   "execution_count": 3,
   "metadata": {},
   "outputs": [],
   "source": [
    "import pandas as pd\n",
    "import numpy as np\n",
    "from datetime import datetime, date"
   ]
  },
  {
   "cell_type": "markdown",
   "metadata": {
    "id": "iuIkhXphQRNk"
   },
   "source": [
    "<h1>1. Compute deadhead matrix for three days<h1>\n"
   ]
  },
  {
   "cell_type": "markdown",
   "metadata": {
    "id": "RGefKvt_e-aX"
   },
   "source": [
    "<h2> a) Retreive information of deadheads between locations <h2>"
   ]
  },
  {
   "cell_type": "code",
   "execution_count": null,
   "metadata": {
    "colab": {
     "base_uri": "https://localhost:8080/"
    },
    "executionInfo": {
     "elapsed": 519,
     "status": "ok",
     "timestamp": 1680450699892,
     "user": {
      "displayName": "Armand Bonn",
      "userId": "09895225065881841186"
     },
     "user_tz": -120
    },
    "id": "G0HW2zG_ZUu4",
    "outputId": "efb2f784-2038-4b96-baca-ef3f5f28f22f"
   },
   "outputs": [
    {
     "name": "stderr",
     "output_type": "stream",
     "text": [
      "<ipython-input-3-8d275872aea1>:20: SettingWithCopyWarning: \n",
      "A value is trying to be set on a copy of a slice from a DataFrame\n",
      "\n",
      "See the caveats in the documentation: https://pandas.pydata.org/pandas-docs/stable/user_guide/indexing.html#returning-a-view-versus-a-copy\n",
      "  kilometers_information.iloc[0,0] = \"Location\"\n"
     ]
    }
   ],
   "source": [
    "information = pd.read_excel(r\"/content/gdrive/My Drive/data logistics/DataCase1.xlsx\", sheet_name=\"General\")\n",
    "\n",
    "# Make matrix of all deadhead times\n",
    "# Select all rows in first sheet that contain information about deadhead times\n",
    "information_deadhead = information.iloc[5:11,:]\n",
    "# Reset index of rows\n",
    "information_deadhead = information_deadhead.reset_index(drop=True)\n",
    "# Name the index as Location so that it is clear what the index is about (in this case: Location A, Location B ect.)\n",
    "information_deadhead.iloc[0,0] = \"Location\"\n",
    "# Change the columns so that columns are also Location A, Location B, ect. such that we will have a matrix with the locations in the columns and rows and the values of deadhead in the matrix.\n",
    "columns_deadhead = information_deadhead.iloc[0,:]\n",
    "information_deadhead.columns = columns_deadhead\n",
    "# Delete first row wich used to the names of the location (they are now set as the column names)\n",
    "information_deadhead = information_deadhead.iloc[1:,:]\n",
    "information_deadhead = information_deadhead.set_index('Location')\n",
    "\n",
    "# Select all rows in first sheet that contain information about distances\n",
    "kilometers_information = information.iloc[13:19,:]\n",
    "# Name the index as Location so that it is clear what the index is about (in this case: Location A, Location B ect.)\n",
    "kilometers_information.iloc[0,0] = \"Location\"\n",
    "# Change the columns so that columns are also Location A, Location B, ect. such that we will have a matrix with the locations in the columns and rows and the values of kilometer in the matrix.\n",
    "columns_deadhead = kilometers_information.iloc[0,:]\n",
    "kilometers_information.columns = columns_deadhead\n",
    "# Delete first row wich used to the names of the location (they are now set as the column names)\n",
    "kilometers_information = kilometers_information.iloc[1:,:]\n",
    "kilometers_information = kilometers_information.set_index('Location')\n"
   ]
  },
  {
   "cell_type": "markdown",
   "metadata": {
    "id": "6piQcMBeQ5qC"
   },
   "source": [
    "<h1>2. Compute costs and compatible trips<h1>"
   ]
  },
  {
   "cell_type": "markdown",
   "metadata": {
    "id": "r0eidLhigYrt"
   },
   "source": [
    "<h2>a) Monday-Friday <h2>"
   ]
  },
  {
   "cell_type": "code",
   "execution_count": null,
   "metadata": {
    "id": "p3RU3WWBQ-6M"
   },
   "outputs": [],
   "source": [
    "mofri_df = pd.read_excel(r\"/content/gdrive/My Drive/data logistics/DataCase1.xlsx\", sheet_name=\"Monday-Friday\")\n",
    "\n",
    "# Start creating cost matrix by iniating cost matrix\n",
    "cost_mofri = pd.DataFrame(np.zeros((157, 157)))\n",
    "\n",
    "compatible_trips = []\n",
    "\n",
    "# Loop over every trip i and and create cost with every other existing trip j\n",
    "for i in range(0,156):\n",
    "  # Select the end trip time and end location of selected trip i\n",
    "  end_time_trip = mofri_df.iloc[i,3]\n",
    "  end_location_trip = str(mofri_df.iloc[i,1])\n",
    "\n",
    "  for j in range (0,156):\n",
    "    # Select the start time and start location of every respective paired trip j\n",
    "    start_time_next = mofri_df.iloc[j,2]\n",
    "    start_location_next = str(mofri_df.iloc[j,0])\n",
    "\n",
    "    # Compute the time difference in hours and minutes between end time of trip i and start time of paired trip j\n",
    "    time_diff = datetime.combine(date.today(), start_time_next) - datetime.combine(date.today(), end_time_trip)\n",
    "    days, seconds = time_diff.days, time_diff.seconds\n",
    "    hours = days * 24 + seconds // 3600\n",
    "    minutes = (seconds % 3600) // 60\n",
    "\n",
    "    # If the trips are compatible such that the start time and end time are within 50 minutes and there is no deadhead (i.e. location is the same) \n",
    "    if (hours >= 0) & (hours < 1) & (minutes <= 50) & (start_location_next == end_location_trip):\n",
    "      cost = minutes * 0.5 + hours * 30\n",
    "    # If the trips are not compatible assign very big cost such that these arcs will never be taken\n",
    "    else: \n",
    "      cost = 1000000000\n",
    "\n",
    "    cost_mofri.iloc[i,j] = cost\n",
    "\n",
    "\n",
    "# Now assign all costs for the depot to every trip which will then be the start location\n",
    "for d in range(0,156):\n",
    "    # Select the start location of every trip d\n",
    "    start_location_next = str(mofri_df.iloc[d,0])\n",
    "    start_location = \"Location \" + start_location_next\n",
    "    # Select how many km and deadhead to travel there is for that start location\n",
    "    kilometers = kilometers_information[start_location]\n",
    "    deadhead = information_deadhead[start_location]\n",
    "    # Select the km and deadhead from depot to that start location (first row, i.e. row 0)\n",
    "    kilometers_information_current = kilometers.iloc[0]\n",
    "    deadhead_information_current = deadhead.iloc[0]\n",
    "\n",
    "    # Assign cost with fixed costs of starting bus, wage and km cost\n",
    "    cost = 2*kilometers_information_current + 0.5*deadhead_information_current + 100\n",
    "    cost_mofri.iloc[156,d] = cost\n",
    "\n",
    "\n",
    "# Now assign all costs from the every trip to the depot for finishing the route\n",
    "for d in range(0,156):\n",
    "    # Select the start location of every trip d\n",
    "    end_location = str(mofri_df.iloc[d,1])\n",
    "    end_location = \"Location \" + end_location\n",
    "    # Select how many km and deadhead to travel there from end trip \n",
    "    kilometers = kilometers_information[end_location]\n",
    "    deadhead = information_deadhead[end_location]\n",
    "\n",
    "    # Select the km and deadhead from last trip to depot (first row, i.e. row 0)\n",
    "    kilometers_information_current = kilometers.iloc[0]\n",
    "    deadhead_information_current = deadhead.iloc[0]\n",
    "    \n",
    "    # Assign cost with fixed costs of starting bus, wage and km cost\n",
    "    cost = 2*kilometers_information_current + 0.5*deadhead_information_current\n",
    "    cost_mofri.iloc[d,156] = cost\n",
    "\n",
    "compatible_trips_df = pd.DataFrame(compatible_trips, columns=['Start', 'End'])\n",
    "\n",
    "compatible_trips_df.to_excel(\"/content/gdrive/My Drive/data logistics/Compatible_trips_MoFri.xlsx\", sheet_name=\"MoFri\")\n",
    "cost_mofri.to_excel(\"/content/gdrive/My Drive/data logistics/cost_matrix_MoFri.xlsx\", sheet_name=\"MoFri\")\n",
    "\n"
   ]
  },
  {
   "cell_type": "markdown",
   "metadata": {
    "id": "FqAapu2pgryn"
   },
   "source": [
    "<h2>b) Saturday <h2>"
   ]
  },
  {
   "cell_type": "code",
   "execution_count": null,
   "metadata": {
    "id": "rxVeu5X3YlJZ"
   },
   "outputs": [],
   "source": [
    "saturday_df = pd.read_excel(r\"/content/gdrive/My Drive/data logistics/DataCase1.xlsx\", sheet_name=\"Saturday\")\n",
    "\n",
    "length = len(saturday_df.index)\n",
    "\n",
    "# Start creating cost matrix by iniating cost matrix\n",
    "cost_mofri = pd.DataFrame(np.zeros((length+1, length+1)))\n",
    "\n",
    "\n",
    "# Loop over every trip i and and create cost with every other existing trip j\n",
    "for i in range(0,length):\n",
    "  # Select the end trip time and end location of selected trip i\n",
    "  end_time_trip = saturday_df.iloc[i,3]\n",
    "  end_location_trip = str(saturday_df.iloc[i,1])\n",
    "\n",
    "  for j in range (0,length):\n",
    "    # Select the start time and start location of every respective paired trip j\n",
    "    start_time_next = saturday_df.iloc[j,2]\n",
    "    start_location_next = str(saturday_df.iloc[j,0])\n",
    "\n",
    "    # Compute the time difference in hours and minutes between end time of trip i and start time of paired trip j\n",
    "    time_diff = datetime.combine(date.today(), start_time_next) - datetime.combine(date.today(), end_time_trip)\n",
    "    days, seconds = time_diff.days, time_diff.seconds\n",
    "    hours = days * 24 + seconds // 3600\n",
    "    minutes = (seconds % 3600) // 60\n",
    "\n",
    "    # If the trips are compatible such that the start time and end time are within 50 minutes and there is no deadhead (i.e. location is the same) \n",
    "    if (hours >= 0) & (hours < 1) & (minutes <= 50) & (start_location_next == end_location_trip):\n",
    "      cost = minutes * 0.5 + hours * 30\n",
    "    # If the trips are not compatible assign very big cost such that these arcs will never be taken\n",
    "    else: \n",
    "      cost = 1000000000\n",
    "\n",
    "    cost_mofri.iloc[i,j] = cost\n",
    "\n",
    "\n",
    "# Now assign all costs for the depot to every trip which will then be the start location\n",
    "for d in range(0,length):\n",
    "    # Select the start location of every trip d\n",
    "    start_location_next = str(saturday_df.iloc[d,0])\n",
    "    start_location = \"Location \" + start_location_next\n",
    "    # Select how many km and deadhead to travel there is for that start location\n",
    "    kilometers = kilometers_information[start_location]\n",
    "    deadhead = information_deadhead[start_location]\n",
    "    # Select the km and deadhead from depot to that start location (first row, i.e. row 0)\n",
    "    kilometers_information_current = kilometers.iloc[0]\n",
    "    deadhead_information_current = deadhead.iloc[0]\n",
    "\n",
    "    # Assign cost with fixed costs of starting bus, wage and km cost\n",
    "    cost = 2*kilometers_information_current + 0.5*deadhead_information_current + 100\n",
    "    cost_mofri.iloc[length,d] = cost\n",
    "\n",
    "\n",
    "# Now assign all costs from the every trip to the depot for finishing the route\n",
    "for d in range(0,length):\n",
    "    # Select the start location of every trip d\n",
    "    end_location = str(saturday_df.iloc[d,1])\n",
    "    end_location = \"Location \" + end_location\n",
    "    # Select how many km and deadhead to travel there from end trip \n",
    "    kilometers = kilometers_information[end_location]\n",
    "    deadhead = information_deadhead[end_location]\n",
    "\n",
    "    # Select the km and deadhead from last trip to depot (first row, i.e. row 0)\n",
    "    kilometers_information_current = kilometers.iloc[0]\n",
    "    deadhead_information_current = deadhead.iloc[0]\n",
    "    \n",
    "    # Assign cost with fixed costs of starting bus, wage and km cost\n",
    "    cost = 2*kilometers_information_current + 0.5*deadhead_information_current\n",
    "    cost_mofri.iloc[d,length] = cost\n",
    "\n",
    "\n",
    "cost_mofri.to_excel(\"/content/gdrive/My Drive/data logistics/cost_matrix_Sat.xlsx\", sheet_name=\"Sat\")"
   ]
  },
  {
   "cell_type": "markdown",
   "metadata": {
    "id": "ReNw6DYKijvQ"
   },
   "source": [
    "<h2> c) Sunday <h2>"
   ]
  },
  {
   "cell_type": "code",
   "execution_count": null,
   "metadata": {
    "id": "QK9e8VElioW1"
   },
   "outputs": [],
   "source": [
    "sunday_df = pd.read_excel(r\"/content/gdrive/My Drive/data logistics/DataCase1.xlsx\", sheet_name=\"Sunday\")\n",
    "\n",
    "length = len(sunday_df.index)\n",
    "\n",
    "# Start creating cost matrix by iniating cost matrix\n",
    "cost_sun = pd.DataFrame(np.zeros((length+1, length+1)))\n",
    "\n",
    "\n",
    "# Loop over every trip i and and create cost with every other existing trip j\n",
    "for i in range(0,length):\n",
    "  # Select the end trip time and end location of selected trip i\n",
    "  end_time_trip = sunday_df.iloc[i,3]\n",
    "  end_location_trip = str(sunday_df.iloc[i,1])\n",
    "\n",
    "  for j in range (0,length):\n",
    "    # Select the start time and start location of every respective paired trip j\n",
    "    start_time_next = sunday_df.iloc[j,2]\n",
    "    start_location_next = str(sunday_df.iloc[j,0])\n",
    "\n",
    "    # Compute the time difference in hours and minutes between end time of trip i and start time of paired trip j\n",
    "    time_diff = datetime.combine(date.today(), start_time_next) - datetime.combine(date.today(), end_time_trip)\n",
    "    days, seconds = time_diff.days, time_diff.seconds\n",
    "    hours = days * 24 + seconds // 3600\n",
    "    minutes = (seconds % 3600) // 60\n",
    "\n",
    "    # If the trips are compatible such that the start time and end time are within 50 minutes and there is no deadhead (i.e. location is the same) \n",
    "    if (hours >= 0) & (hours < 1) & (minutes <= 50) & (start_location_next == end_location_trip):\n",
    "      cost = minutes * 0.5 + hours * 30\n",
    "    # If the trips are not compatible assign very big cost such that these arcs will never be taken\n",
    "    else: \n",
    "      cost = 1000000000\n",
    "\n",
    "    cost_sun.iloc[i,j] = cost\n",
    "\n",
    "\n",
    "# Now assign all costs for the depot to every trip which will then be the start location\n",
    "for d in range(0,length):\n",
    "    # Select the start location of every trip d\n",
    "    start_location_next = str(sunday_df.iloc[d,0])\n",
    "    start_location = \"Location \" + start_location_next\n",
    "    # Select how many km and deadhead to travel there is for that start location\n",
    "    kilometers = kilometers_information[start_location]\n",
    "    deadhead = information_deadhead[start_location]\n",
    "    # Select the km and deadhead from depot to that start location (first row, i.e. row 0)\n",
    "    kilometers_information_current = kilometers.iloc[0]\n",
    "    deadhead_information_current = deadhead.iloc[0]\n",
    "\n",
    "    # Assign cost with fixed costs of starting bus, wage and km cost\n",
    "    cost = 2*kilometers_information_current + 0.5*deadhead_information_current + 100\n",
    "    cost_sun.iloc[length,d] = cost\n",
    "\n",
    "\n",
    "# Now assign all costs from the every trip to the depot for finishing the route\n",
    "for d in range(0,length):\n",
    "    # Select the start location of every trip d\n",
    "    end_location = str(sunday_df.iloc[d,1])\n",
    "    end_location = \"Location \" + end_location\n",
    "    # Select how many km and deadhead to travel there from end trip \n",
    "    kilometers = kilometers_information[end_location]\n",
    "    deadhead = information_deadhead[end_location]\n",
    "\n",
    "    # Select the km and deadhead from last trip to depot (first row, i.e. row 0)\n",
    "    kilometers_information_current = kilometers.iloc[0]\n",
    "    deadhead_information_current = deadhead.iloc[0]\n",
    "    \n",
    "    # Assign cost with fixed costs of starting bus, wage and km cost\n",
    "    cost = 2*kilometers_information_current + 0.5*deadhead_information_current\n",
    "    cost_sun.iloc[d,length] = cost\n",
    "\n",
    "\n",
    "cost_sun.to_excel(\"/content/gdrive/My Drive/data logistics/cost_matrix_Sun.xlsx\", sheet_name=\"Sunday\")"
   ]
  }
 ],
 "metadata": {
  "colab": {
   "provenance": []
  },
  "kernelspec": {
   "display_name": "Python 3",
   "name": "python3"
  },
  "language_info": {
   "codemirror_mode": {
    "name": "ipython",
    "version": 3
   },
   "file_extension": ".py",
   "mimetype": "text/x-python",
   "name": "python",
   "nbconvert_exporter": "python",
   "pygments_lexer": "ipython3",
   "version": "3.12.7"
  }
 },
 "nbformat": 4,
 "nbformat_minor": 0
}
