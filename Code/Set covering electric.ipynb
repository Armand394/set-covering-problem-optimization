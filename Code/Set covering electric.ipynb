{
 "cells": [
  {
   "cell_type": "markdown",
   "metadata": {
    "id": "M6QkGjWGt-YR"
   },
   "source": [
    "<h1> 1. Import all necessary information and create functions to make parameters <h1>\n",
    "\n",
    "\n"
   ]
  },
  {
   "cell_type": "markdown",
   "metadata": {
    "id": "rzTN4oKPNdM5"
   },
   "source": [
    "<h2> a. Import necessary libraries <h2>"
   ]
  },
  {
   "cell_type": "code",
   "execution_count": 3,
   "metadata": {
    "colab": {
     "base_uri": "https://localhost:8080/"
    },
    "executionInfo": {
     "elapsed": 22806,
     "status": "ok",
     "timestamp": 1680775877600,
     "user": {
      "displayName": "Armand Bonn",
      "userId": "09895225065881841186"
     },
     "user_tz": -120
    },
    "id": "yHbd3yiJujhf",
    "outputId": "9f59dd3e-9b83-41b3-977d-4d9182718fa8"
   },
   "outputs": [],
   "source": [
    "import pandas as pd\n",
    "import numpy as np\n",
    "from datetime import datetime, date"
   ]
  },
  {
   "cell_type": "markdown",
   "metadata": {
    "id": "y1CaA2w8Nlcx"
   },
   "source": [
    "<h2> b. Acquire necassary information from deadheads and kilometers <h2>"
   ]
  },
  {
   "cell_type": "code",
   "execution_count": null,
   "metadata": {
    "colab": {
     "base_uri": "https://localhost:8080/"
    },
    "executionInfo": {
     "elapsed": 990,
     "status": "ok",
     "timestamp": 1680775882615,
     "user": {
      "displayName": "Armand Bonn",
      "userId": "09895225065881841186"
     },
     "user_tz": -120
    },
    "id": "1_69Tq279L6i",
    "outputId": "090f27a0-a98d-4403-8543-64e0f4e01f1e"
   },
   "outputs": [
    {
     "name": "stderr",
     "output_type": "stream",
     "text": [
      "<ipython-input-2-8d275872aea1>:20: SettingWithCopyWarning: \n",
      "A value is trying to be set on a copy of a slice from a DataFrame\n",
      "\n",
      "See the caveats in the documentation: https://pandas.pydata.org/pandas-docs/stable/user_guide/indexing.html#returning-a-view-versus-a-copy\n",
      "  kilometers_information.iloc[0,0] = \"Location\"\n"
     ]
    }
   ],
   "source": [
    "information = pd.read_excel(r\"/content/gdrive/My Drive/data logistics/DataCase1.xlsx\", sheet_name=\"General\")\n",
    "\n",
    "# Make matrix of all deadhead times\n",
    "# Select all rows in first sheet that contain information about deadhead times\n",
    "information_deadhead = information.iloc[5:11,:]\n",
    "# Reset index of rows\n",
    "information_deadhead = information_deadhead.reset_index(drop=True)\n",
    "# Name the index as Location so that it is clear what the index is about (in this case: Location A, Location B ect.)\n",
    "information_deadhead.iloc[0,0] = \"Location\"\n",
    "# Change the columns so that columns are also Location A, Location B, ect. such that we will have a matrix with the locations in the columns and rows and the values of deadhead in the matrix.\n",
    "columns_deadhead = information_deadhead.iloc[0,:]\n",
    "information_deadhead.columns = columns_deadhead\n",
    "# Delete first row wich used to the names of the location (they are now set as the column names)\n",
    "information_deadhead = information_deadhead.iloc[1:,:]\n",
    "information_deadhead = information_deadhead.set_index('Location')\n",
    "\n",
    "# Select all rows in first sheet that contain information about distances\n",
    "kilometers_information = information.iloc[13:19,:]\n",
    "# Name the index as Location so that it is clear what the index is about (in this case: Location A, Location B ect.)\n",
    "kilometers_information.iloc[0,0] = \"Location\"\n",
    "# Change the columns so that columns are also Location A, Location B, ect. such that we will have a matrix with the locations in the columns and rows and the values of kilometer in the matrix.\n",
    "columns_deadhead = kilometers_information.iloc[0,:]\n",
    "kilometers_information.columns = columns_deadhead\n",
    "# Delete first row wich used to the names of the location (they are now set as the column names)\n",
    "kilometers_information = kilometers_information.iloc[1:,:]\n",
    "kilometers_information = kilometers_information.set_index('Location')"
   ]
  },
  {
   "cell_type": "markdown",
   "metadata": {
    "id": "ntownpyf3ek4"
   },
   "source": [
    "<h2> c. Funtion to find all feasible trips that can be added to a given duty given <h2>\n"
   ]
  },
  {
   "cell_type": "code",
   "execution_count": null,
   "metadata": {
    "id": "ztUTRm7_w7sX"
   },
   "outputs": [],
   "source": [
    "# Give the list of feasible duties so we can make it larger when we find new feasible duties in the funciton (feasible duties)\n",
    "# Give the duty we want to find all feasible from (duty)\n",
    "# Give data with information of times of trips (bus_planning_df)\n",
    "def find_feasible_duties(duty, feasible_duties, bus_planning_df):\n",
    "  max_time = 8*60\n",
    "  # Take the last trip in the duty, this trip has just ended we want to find if there are other feasible trips\n",
    "  index_last = duty[-1] -1\n",
    "  # Take index of that trip, since index start at 0\n",
    "  index_first = duty[0] - 1\n",
    "\n",
    "  # Take end time and location of the last trip made in the duty\n",
    "  end_time_trip = bus_planning_df.iloc[index_last,3]\n",
    "  end_location_trip = str(bus_planning_df.iloc[index_last,1])\n",
    "  \n",
    "  # Get start time of first trip in duty and retreive information\n",
    "  start_time_first = bus_planning_df.iloc[index_first,2]\n",
    "  start_location_trip = str(bus_planning_df.iloc[index_first,0])\n",
    "  location_first_str = \"Location \" + start_location_trip\n",
    "\n",
    "  deadhead_col_to_start = information_deadhead[location_first_str]\n",
    "  deadhead_to_start = deadhead_col_to_start.iloc[0]\n",
    "\n",
    "\n",
    "  for j in range (0,len(bus_planning_df.index)):\n",
    "    # Make copy of current duty\n",
    "    new_duty = duty[:]\n",
    "    # Take for all possible trips start time and location to see if compatible\n",
    "    start_time_next = bus_planning_df.iloc[j,2]\n",
    "    start_location_next = str(bus_planning_df.iloc[j,0])\n",
    "    start_location_str = \"Location \" + start_location_next\n",
    "    \n",
    "    # Select the column of the start location with all the deadhead times\n",
    "    deadheads_to_next = information_deadhead[start_location_str]\n",
    "\n",
    "    # Select the correct deadhead time between the end location of the selected trip i and start trip of next trip j\n",
    "    if (end_location_trip == \"A\") :\n",
    "      deadhead_to_next = deadheads_to_next.iloc[1]\n",
    "    elif (end_location_trip == \"B\") :\n",
    "      deadhead_to_next = deadheads_to_next.iloc[2]\n",
    "    elif (end_location_trip == \"C\") :\n",
    "      deadhead_to_next = deadheads_to_next.iloc[3]\n",
    "    else :\n",
    "      deadhead_to_next = deadheads_to_next.iloc[4]\n",
    "    \n",
    "    # Compute time difference in hours and minutes between end time of end location and and start time of next location\n",
    "    time_diff_trips = datetime.combine(date.today(), start_time_next) - datetime.combine(date.today(), end_time_trip)\n",
    "    days_trips, seconds_trips = time_diff_trips.days, time_diff_trips.seconds\n",
    "    hours_trips = days_trips * 24 + seconds_trips // 3600\n",
    "    minutes_trips = (seconds_trips % 3600) // 60\n",
    "    \n",
    "    tot_difference_minutes = hours_trips*60 + minutes_trips\n",
    "\n",
    "    # If difference between end time last and start time next is smaller than deadhead then trips not compatible \n",
    "    if (tot_difference_minutes < deadhead_to_next) | (hours_trips < 0) | (hours_trips > 6): \n",
    "      continue\n",
    "\n",
    "\n",
    "    # Take for all possible trips start time and location to see if compatible\n",
    "    end_time_next = bus_planning_df.iloc[j,3]\n",
    "    end_location_next = str(bus_planning_df.iloc[j,1])\n",
    "    end_next_location_str = \"Location \" + end_location_next\n",
    "    end_next_deadhead = information_deadhead[end_next_location_str]\n",
    "    deadhead_end_next_to_depot = end_next_deadhead.iloc[0]\n",
    "\n",
    "\n",
    "    # Compute time difference in hours and minutes between end time of end location and and start time of first location of duty\n",
    "    time_diff_duty = datetime.combine(date.today(), end_time_next) - datetime.combine(date.today(), start_time_first)\n",
    "    days, seconds = time_diff_duty.days, time_diff_duty.seconds\n",
    "    hours = days * 24 + seconds // 3600\n",
    "    minutes = (seconds % 3600) // 60\n",
    "\n",
    "    # If difference between end time last and start time next is smaller than deadhead then trips not compatible \n",
    "    if (hours < 0) : \n",
    "      continue\n",
    "\n",
    "    # Compute the total time the bus has riden if this trip would be added and would go to depot after\n",
    "    tot_minutes_duty = hours*60 + minutes + deadhead_to_start + deadhead_end_next_to_depot\n",
    "\n",
    "    # If last trip of duty compatible with selected trip j and no deadhead (i.e. same location), append this trip to new duty\n",
    "    if (tot_minutes_duty <= max_time):\n",
    "          trip = j+1\n",
    "          new_duty.append(trip)\n",
    "          # Append new created duty to feasible duties\n",
    "          feasible_duties.append(new_duty)\n",
    "  \n",
    "\n",
    "  # When all new duties have been created and added to feasible duties return the bigger list of feasible duties\n",
    "  return feasible_duties\n"
   ]
  },
  {
   "cell_type": "markdown",
   "metadata": {
    "id": "B5Bxb0dUxpxv"
   },
   "source": [
    "<h2> d. function to compute covering matrix <h2>"
   ]
  },
  {
   "cell_type": "code",
   "execution_count": null,
   "metadata": {
    "id": "OOXFXsV3xo8A"
   },
   "outputs": [],
   "source": [
    "def create_covering_matrix(feas_duties, bus_plan_df):\n",
    "  # Initiate zeros matrix to start the covering matrix for the constraint\n",
    "  cover_matrix = pd.DataFrame(np.zeros((len(bus_plan_df.index), len(feas_duties))))\n",
    "\n",
    "  # Loop over all columns (i.e. duties)\n",
    "  for i in range(0,len(feas_duties)):\n",
    "    # Select a duty\n",
    "    duty = feas_duties[i]\n",
    "    for j in range(0, len(duty)):\n",
    "        # For every trip in that duty we want to take the index and give it 1 for the assigned column of that duty\n",
    "        trip = duty[j]\n",
    "        index = trip - 1\n",
    "        cover_matrix.iloc[index,i] = 1\n",
    "\n",
    "  return cover_matrix"
   ]
  },
  {
   "cell_type": "markdown",
   "metadata": {
    "id": "MU3T4IA_8itl"
   },
   "source": [
    "<h2> e. Function to compute cost vector <h2>"
   ]
  },
  {
   "cell_type": "code",
   "execution_count": null,
   "metadata": {
    "id": "8Y5vN1498vkt"
   },
   "outputs": [],
   "source": [
    "def create_cost_vector(feas_duties, bus_plan_df):\n",
    "\n",
    "  # Initiate vector of cost of all duties \n",
    "  cost = [0] * len(feas_duties)\n",
    "\n",
    "  # Create cost for every duty\n",
    "  for i in range(0,len(feas_duties)):\n",
    "      # Select duty i\n",
    "      duty = feas_duties[i]\n",
    "      # Select index of first trip for duty i\n",
    "      first_trip = (duty[0] - 1)\n",
    "      # See what starting location is of first trip\n",
    "      location_first = bus_plan_df.iloc[first_trip,0]\n",
    "      location_first_str = \"Location \" + location_first\n",
    "      # Select km and deadheads to the first start location\n",
    "      kilometers = kilometers_information[location_first_str]\n",
    "      deadhead = information_deadhead[location_first_str]\n",
    "      # Select km and deadheads from depot to first start location\n",
    "      kilometers_information_first = kilometers.iloc[0]\n",
    "      deadhead_information_first = deadhead.iloc[0]\n",
    "\n",
    "      # Add costs depending to traveltime, traveldistance and fixed costs\n",
    "      cost[i] = 2*kilometers_information_first + 0.5*deadhead_information_first + 100\n",
    "\n",
    "      # Select last trip of duty i\n",
    "      last_trip = (duty[-1] - 1)\n",
    "      # See what ending location of last trip is\n",
    "      location_last = bus_plan_df.iloc[last_trip,1]\n",
    "      location_last_str = \"Location \" + location_last\n",
    "      # Select all km and deadhead to/from last location\n",
    "      kilometers = kilometers_information[location_last_str]\n",
    "      deadhead = information_deadhead[location_last_str]\n",
    "      # Select km and deadheads from last location to depot\n",
    "      kilometers_information_last = kilometers.iloc[0]\n",
    "      deadhead_information_last = deadhead.iloc[0]\n",
    "      # Add costs to depot to last location\n",
    "      cost[i] =  cost[i] + (2*kilometers_information_last + 0.5*deadhead_information_last)\n",
    "\n",
    "\n",
    "      # Loop over all elements in duty to find traveltime and costs in between\n",
    "      for j in range(0,len(duty)-1):\n",
    "        # Take first and and second elements of duty\n",
    "        index_trip = duty[j] - 1\n",
    "        index_next = duty[j+1] - 1\n",
    "\n",
    "        # Select their end trip and next start trip\n",
    "        end_time_trip = bus_plan_df.iloc[index_trip,3]\n",
    "        start_time_next = bus_plan_df.iloc[index_next,2]\n",
    "\n",
    "        # Select their end trip and next start trip\n",
    "        end_location_trip = bus_plan_df.iloc[index_trip,1]\n",
    "        start_location_next = bus_plan_df.iloc[index_next,0]\n",
    "        end_str = \"Location \" + end_location_trip\n",
    "\n",
    "\n",
    "        # Select the column of the start location with all the deadhead times\n",
    "        km_to_next = kilometers_information[end_str]\n",
    "\n",
    "        # Select the correct deadhead time between the end location of the selected trip i and start trip of next trip j\n",
    "        if (start_location_next == \"A\") :\n",
    "          km_to_next = km_to_next.iloc[1]\n",
    "        elif (start_location_next == \"B\") :\n",
    "          km_to_next = km_to_next.iloc[2]\n",
    "        elif (start_location_next == \"C\") :\n",
    "          km_to_next = km_to_next.iloc[3]\n",
    "        else :\n",
    "          km_to_next = km_to_next.iloc[4]\n",
    "        \n",
    "        # Compute time difference\n",
    "        time_diff = datetime.combine(date.today(), start_time_next) - datetime.combine(date.today(), end_time_trip)\n",
    "        days, seconds = time_diff.days, time_diff.seconds\n",
    "        hours = days * 24 + seconds // 3600\n",
    "        minutes = (seconds % 3600) // 60\n",
    "\n",
    "        # Add waiting time between trips in duty to costs\n",
    "        cost[i] =  cost[i] + minutes * 0.5 + hours * 30 + 2*km_to_next\n",
    "\n",
    "\n",
    "  cost_vector = pd.DataFrame(cost, columns=['costs'])\n",
    "\n",
    "  return cost_vector"
   ]
  },
  {
   "cell_type": "markdown",
   "metadata": {
    "id": "Qy_-Co0b90Jk"
   },
   "source": [
    "<h1> 2. Compute parameters Monday-Friday, Saturday and Sunday <h1>\n",
    "<h2> a. Compute all feasible duties <h2>"
   ]
  },
  {
   "cell_type": "code",
   "execution_count": null,
   "metadata": {
    "id": "-0duOe3Sx32y"
   },
   "outputs": [],
   "source": [
    "# Import informaiton of bus trips for monda-friday\n",
    "mofri_df = pd.read_excel(r\"/content/gdrive/My Drive/data logistics/DataCase1.xlsx\", sheet_name=\"Monday-Friday\")\n",
    " \n",
    "# Initiate list of all feasible duties\n",
    "feasible_duties_mf = []\n",
    "\n",
    "# Make a column to number the independent  trips in the data\n",
    "mofri_df['Trip'] = list(range(1,(len(mofri_df.index)+1)))\n",
    "\n",
    "# Initiate feasible duties by starting with all single trips\n",
    "# TD - (loop good??)\n",
    "for i in range(0, len(mofri_df.index)):\n",
    "  trip = mofri_df.iloc[i,4]\n",
    "  feasible_duties_mf.append([trip])\n",
    "\n",
    "# For every duty in feasible duties add all possible next trips that are feasible as a new duty through the function\n",
    "for duty in feasible_duties_mf:\n",
    "    feasible_duties_mf = find_feasible_duties(duty, feasible_duties_mf, mofri_df)\n",
    "\n"
   ]
  },
  {
   "cell_type": "code",
   "execution_count": null,
   "metadata": {
    "id": "-KTSWk0laT-u"
   },
   "outputs": [],
   "source": [
    "# Import informaiton of bus trips for monda-friday\n",
    "saturday_df = pd.read_excel(r\"/content/gdrive/My Drive/data logistics/DataCase1.xlsx\", sheet_name=\"Saturday\")\n",
    " \n",
    "# Initiate list of all feasible duties\n",
    "feasible_duties_sat = []\n",
    "\n",
    "# Make a column to number independent the trips in the data\n",
    "saturday_df['Trip'] = list(range(1,(len(saturday_df.index)+1)))\n",
    "\n",
    "# Initiate feasible duties by starting with all single trips\n",
    "# TD - (loop good??)\n",
    "for i in range(0, len(saturday_df.index)):\n",
    "  trip = saturday_df.iloc[i,4]\n",
    "  feasible_duties_sat.append([trip])\n",
    "\n",
    "# For every duty in feasible duties add all possible next trips that are feasible as a new duty through the function\n",
    "for duty in feasible_duties_sat:\n",
    "    feasible_duties_sat = find_feasible_duties(duty, feasible_duties_sat, saturday_df)\n"
   ]
  },
  {
   "cell_type": "code",
   "execution_count": null,
   "metadata": {
    "id": "zmgoLO7rdnjB"
   },
   "outputs": [],
   "source": [
    "# Import informaiton of bus trips for monda-friday\n",
    "sunday_df = pd.read_excel(r\"/content/gdrive/My Drive/data logistics/DataCase1.xlsx\", sheet_name=\"Sunday\")\n",
    " \n",
    "# Initiate list of all feasible duties\n",
    "feasible_duties_sun = []\n",
    "\n",
    "# Make a column to number independent the trips in the data\n",
    "sunday_df['Trip'] = list(range(1,(len(sunday_df.index)+1)))\n",
    "\n",
    "# Initiate feasible duties by starting with all single trips\n",
    "# TD - (loop good??)\n",
    "for i in range(0, len(sunday_df.index)):\n",
    "  trip = sunday_df.iloc[i,4]\n",
    "  feasible_duties_sun.append([trip])\n",
    "\n",
    "# For every duty in feasible duties add all possible next trips that are feasible as a new duty through the function\n",
    "for duty in feasible_duties_sun:\n",
    "    feasible_duties_sun = find_feasible_duties(duty, feasible_duties_sun, sunday_df)\n"
   ]
  },
  {
   "cell_type": "markdown",
   "metadata": {
    "id": "QHhTw52CdnjB"
   },
   "source": [
    "<h2> b. Create covering matrices <h2>"
   ]
  },
  {
   "cell_type": "code",
   "execution_count": null,
   "metadata": {
    "id": "teC9dYyUdnjC"
   },
   "outputs": [],
   "source": [
    "covering_mofri = create_covering_matrix(feasible_duties_mf, mofri_df)\n",
    "covering_sat = create_covering_matrix(feasible_duties_sat, saturday_df)\n",
    "covering_sun = create_covering_matrix(feasible_duties_sun, sunday_df)\n",
    "\n",
    "\n",
    "covering_mofri.to_excel(\"/content/gdrive/My Drive/data logistics/covering_matrix_MoFri_electric_v2.xlsx\")\n",
    "covering_sat.to_excel(\"/content/gdrive/My Drive/data logistics/covering_matrix_Sat_electric_v2.xlsx\")\n",
    "covering_sun.to_excel(\"/content/gdrive/My Drive/data logistics/covering_matrix_Sun_electric_v2.xlsx\")\n"
   ]
  },
  {
   "cell_type": "markdown",
   "metadata": {
    "id": "Nhtut36XdnjC"
   },
   "source": [
    "<h2> c. Create cost vectors <h2>"
   ]
  },
  {
   "cell_type": "code",
   "execution_count": null,
   "metadata": {
    "id": "W3541Bgb-eTp"
   },
   "outputs": [],
   "source": [
    "cost_mofri = create_cost_vector(feasible_duties_mf, mofri_df)\n",
    "cost_sat = create_cost_vector(feasible_duties_sat, saturday_df)\n",
    "cost_sun = create_cost_vector(feasible_duties_sun, sunday_df)\n",
    "\n",
    "cost_mofri.to_excel(\"/content/gdrive/My Drive/data logistics/Cost_vector_MoFri_electric_v2.xlsx\")\n",
    "cost_sat.to_excel(\"/content/gdrive/My Drive/data logistics/Cost_vector_Saturday_electric_v2.xlsx\")\n",
    "cost_sun.to_excel(\"/content/gdrive/My Drive/data logistics/Cost_vector_Sunday_electric_v2.xlsx\")"
   ]
  },
  {
   "cell_type": "markdown",
   "metadata": {
    "id": "wRbXc7Ua-a_y"
   },
   "source": [
    "<h1> 3. Heuristic for 1 hour constraint <h1>\n",
    "\n",
    "<h2> a. Monday-Friday"
   ]
  },
  {
   "cell_type": "code",
   "execution_count": null,
   "metadata": {
    "id": "lDiRD_1qEi_0"
   },
   "outputs": [],
   "source": [
    "# Import information of bus trips for monday-friday\n",
    "mofri_df = pd.read_excel(r\"/content/gdrive/My Drive/data logistics/DataCase1.xlsx\", sheet_name=\"Monday-Friday\")\n",
    " \n",
    "# Initiate list of all feasible duties\n",
    "feasible_duties = []\n",
    "\n",
    "# Make a column to number the independent  trips in the data\n",
    "mofri_df['Trip'] = list(range(1,(len(mofri_df.index)+1)))\n",
    "\n",
    "# Initiate feasible duties by starting with all single trips\n",
    "# TD - (loop good??)\n",
    "for i in range(0, len(mofri_df.index)):\n",
    "  trip = mofri_df.iloc[i,4]\n",
    "  feasible_duties.append([trip])\n",
    "\n",
    "# For every duty in feasible duties add all possible next trips that are feasible as a new duty through the function\n",
    "for duty in feasible_duties:\n",
    "    feasible_duties = find_feasible_duties(duty, feasible_duties, mofri_df)\n"
   ]
  },
  {
   "cell_type": "code",
   "execution_count": null,
   "metadata": {
    "colab": {
     "base_uri": "https://localhost:8080/"
    },
    "executionInfo": {
     "elapsed": 2380,
     "status": "ok",
     "timestamp": 1680526542255,
     "user": {
      "displayName": "Armand Bonn",
      "userId": "09895225065881841186"
     },
     "user_tz": -120
    },
    "id": "WaNwUhYz-h9L",
    "outputId": "90c3ad8a-603d-4454-86ba-21bf85e0a16a"
   },
   "outputs": [
    {
     "name": "stdout",
     "output_type": "stream",
     "text": [
      "86\n"
     ]
    }
   ],
   "source": [
    "mofri_df = pd.read_excel(r\"/content/gdrive/My Drive/data logistics/DataCase1.xlsx\", sheet_name=\"Monday-Friday\")\n",
    "duties_MoFri_df = pd.read_excel(r\"/content/gdrive/My Drive/data logistics/duties_electric_mofri.xlsx\")\n",
    "\n",
    "chosenduties = duties_MoFri_df['duty'].tolist()\n",
    "combined = []\n",
    "charge_time = 60\n",
    "\n",
    "copy = chosenduties[:]\n",
    "\n",
    "for i in range(0,len(chosenduties)):\n",
    "    duty = chosenduties[i] \n",
    "    trips_duty = feasible_duties[duty-1]\n",
    "    last_trip_duty = trips_duty[-1]\n",
    "    \n",
    "    end_time_last_trip = mofri_df.iloc[last_trip_duty-1,3]\n",
    "    end_location_last_trip = \"Location \" + mofri_df.iloc[last_trip_duty-1,1]\n",
    "    \n",
    "    deadhead_to_depot = information_deadhead[end_location_last_trip].iloc[0]\n",
    "\n",
    "    for j in range(0,len(chosenduties)):\n",
    "      duty_2 = chosenduties[j]\n",
    "      match_duty = feasible_duties[duty_2-1]\n",
    "      first_trip_duty = match_duty[0]\n",
    "    \n",
    "      start_time_first_trip = mofri_df.iloc[first_trip_duty-1,2]\n",
    "      start_location_last_trip = \"Location \" + mofri_df.iloc[first_trip_duty-1,0]\n",
    "    \n",
    "      deadhead_from_depot = information_deadhead[start_location_last_trip].iloc[0]\n",
    "\n",
    "      # Compute time difference in hours and minutes between end time of end location and and start time of next location\n",
    "      time_diff_trips = datetime.combine(date.today(), start_time_first_trip) - datetime.combine(date.today(), end_time_last_trip)\n",
    "      days_trips, seconds_trips = time_diff_trips.days, time_diff_trips.seconds\n",
    "      hours_trips = days_trips * 24 + seconds_trips // 3600\n",
    "      minutes_trips = (seconds_trips % 3600) // 60\n",
    "      \n",
    "      total_time_charge_travel = deadhead_to_depot + charge_time + deadhead_from_depot\n",
    "\n",
    "      tot_difference_minutes = hours_trips*60 + minutes_trips\n",
    "\n",
    "      # If difference between end time last and start time next is smaller than deadhead then trips not compatible \n",
    "      if (tot_difference_minutes < total_time_charge_travel) | (hours_trips < 0) | (hours_trips > 6): \n",
    "        continue\n",
    "      else:\n",
    "        if (duty not in copy) or (duty_2 not in copy):\n",
    "          continue\n",
    "        else:\n",
    "          copy.append([duty, duty_2])\n",
    "          copy.remove(duty)\n",
    "          copy.remove(duty_2)\n",
    "      \n",
    "\n",
    "print(len(copy))"
   ]
  },
  {
   "cell_type": "markdown",
   "metadata": {
    "id": "_XM5q3toMUx0"
   },
   "source": [
    "<h2> b. Saturday <h2>\n"
   ]
  },
  {
   "cell_type": "code",
   "execution_count": null,
   "metadata": {
    "id": "nwaxU7GdMYJj"
   },
   "outputs": [],
   "source": [
    "# Import informaiton of bus trips for monda-friday\n",
    "saturday_df = pd.read_excel(r\"/content/gdrive/My Drive/data logistics/DataCase1.xlsx\", sheet_name=\"Saturday\")\n",
    " \n",
    "# Initiate list of all feasible duties\n",
    "feasible_duties = []\n",
    "\n",
    "# Make a column to number independent the trips in the data\n",
    "saturday_df['Trip'] = list(range(1,(len(saturday_df.index)+1)))\n",
    "\n",
    "# Initiate feasible duties by starting with all single trips\n",
    "# TD - (loop good??)\n",
    "for i in range(0, len(saturday_df.index)):\n",
    "  trip = saturday_df.iloc[i,4]\n",
    "  feasible_duties.append([trip])\n",
    "\n",
    "# For every duty in feasible duties add all possible next trips that are feasible as a new duty through the function\n",
    "for duty in feasible_duties:\n",
    "    feasible_duties = find_feasible_duties(duty, feasible_duties, saturday_df)\n"
   ]
  },
  {
   "cell_type": "code",
   "execution_count": null,
   "metadata": {
    "colab": {
     "base_uri": "https://localhost:8080/"
    },
    "executionInfo": {
     "elapsed": 812,
     "status": "ok",
     "timestamp": 1680529125007,
     "user": {
      "displayName": "Armand Bonn",
      "userId": "09895225065881841186"
     },
     "user_tz": -120
    },
    "id": "lepldDkkNZQ1",
    "outputId": "50374d10-84ed-45bc-f592-ea903504cdcc"
   },
   "outputs": [
    {
     "name": "stdout",
     "output_type": "stream",
     "text": [
      "51\n"
     ]
    }
   ],
   "source": [
    "saturday_df = pd.read_excel(r\"/content/gdrive/My Drive/data logistics/DataCase1.xlsx\", sheet_name=\"Saturday\")\n",
    "duties_Sat_df = pd.read_excel(r\"/content/gdrive/My Drive/data logistics/chosenSat.xlsx\")\n",
    "\n",
    "# List of all chosen duties in optimization of exc. 4\n",
    "chosenduties = duties_Sat_df['duty'].tolist()\n",
    "# Charging time in minutes\n",
    "charge_time = 60\n",
    "\n",
    "# Make copy of list of chosen duties. We will change this one to shorter (i.e. with less busses)\n",
    "new_duties = chosenduties[:]\n",
    "\n",
    "for i in range(0,len(chosenduties)):\n",
    "    # Choose duty in chosen duty of exc. 4\n",
    "    duty = chosenduties[i] \n",
    "    # Take the list of trips of that duty\n",
    "    trips_duty = feasible_duties[duty-1]\n",
    "    # Take the last trip made in the duty\n",
    "    last_trip_duty = trips_duty[-1]\n",
    "    \n",
    "    # Take the end time of the last trip and end location in this duty\n",
    "    end_time_last_trip = saturday_df.iloc[last_trip_duty-1,3]\n",
    "    end_location_last_trip = \"Location \" + saturday_df.iloc[last_trip_duty-1,1]\n",
    "    \n",
    "    # Time to travel from last locaiton of duty to depot\n",
    "    deadhead_to_depot = information_deadhead[end_location_last_trip].iloc[0]\n",
    "\n",
    "    for j in range(0,len(chosenduties)):\n",
    "\n",
    "      # Take another duty to see if they are compatible\n",
    "      duty_2 = chosenduties[j]\n",
    "      # Take the list of trips for that duty\n",
    "      match_duty = feasible_duties[duty_2-1]\n",
    "      # Take the first trip for this duty\n",
    "      first_trip_duty = match_duty[0]\n",
    "\n",
    "      # take the start time and location for that first trip in the duty we tr\n",
    "      start_time_first_trip = saturday_df.iloc[first_trip_duty-1,2]\n",
    "      start_location_last_trip = \"Location \" + saturday_df.iloc[first_trip_duty-1,0]\n",
    "\n",
    "      # Go from depot to possible first trip \n",
    "      deadhead_from_depot = information_deadhead[start_location_last_trip].iloc[0]\n",
    "\n",
    "      # Compute time difference in hours and minutes between end time of last trip of the duty and start time of first trip of duty 2\n",
    "      time_diff_trips = datetime.combine(date.today(), start_time_first_trip) - datetime.combine(date.today(), end_time_last_trip)\n",
    "      days_trips, seconds_trips = time_diff_trips.days, time_diff_trips.seconds\n",
    "      hours_trips = days_trips * 24 + seconds_trips // 3600\n",
    "      minutes_trips = (seconds_trips % 3600) // 60\n",
    "      \n",
    "      # Compute total time in minutes it takes to go to depot, charge and go to next trip\n",
    "      total_time_charge_travel = deadhead_to_depot + charge_time + deadhead_from_depot\n",
    "\n",
    "      # Compute the difference in minutes between the end time of last trip in the duty and start time of first trip in duty we try to match\n",
    "      tot_difference_minutes = hours_trips*60 + minutes_trips\n",
    "\n",
    "      # If difference between end time last and start time next is smaller than total time to travel and charge then trips not compatible \n",
    "      if (tot_difference_minutes < total_time_charge_travel) | (hours_trips < 0) | (hours_trips > 6): \n",
    "        continue\n",
    "      else:\n",
    "        # If duty was already deleted and combines stop as well\n",
    "        if (duty not in new_duties) or (duty_2 not in new_duties):\n",
    "          continue\n",
    "        else:\n",
    "        # if duties could be combined add them as a list together to new duties list\n",
    "          new_duties.append([duty, duty_2])\n",
    "          new_duties.remove(duty)\n",
    "          new_duties.remove(duty_2)\n",
    "      \n",
    "\n",
    "print(len(new_duties))"
   ]
  },
  {
   "cell_type": "markdown",
   "metadata": {
    "id": "VO0uhwR6UGX1"
   },
   "source": [
    "\n",
    "\n",
    "<h2> c. Sunday <h2>"
   ]
  },
  {
   "cell_type": "code",
   "execution_count": null,
   "metadata": {
    "colab": {
     "base_uri": "https://localhost:8080/"
    },
    "executionInfo": {
     "elapsed": 6862,
     "status": "ok",
     "timestamp": 1680529274564,
     "user": {
      "displayName": "Armand Bonn",
      "userId": "09895225065881841186"
     },
     "user_tz": -120
    },
    "id": "zM_Kk6QyUGX1",
    "outputId": "4c8b7536-98fa-43f7-d7ab-22a634c0b3ee"
   },
   "outputs": [
    {
     "name": "stdout",
     "output_type": "stream",
     "text": [
      "408\n"
     ]
    }
   ],
   "source": [
    "# Import informaiton of bus trips for monda-friday\n",
    "sunday_df = pd.read_excel(r\"/content/gdrive/My Drive/data logistics/DataCase1.xlsx\", sheet_name=\"Sunday\")\n",
    " \n",
    "# Initiate list of all feasible duties\n",
    "feasible_duties = []\n",
    "\n",
    "# Make a column to number independent the trips in the data\n",
    "sunday_df['Trip'] = list(range(1,(len(sunday_df.index)+1)))\n",
    "\n",
    "# Initiate feasible duties by starting with all single trips\n",
    "# TD - (loop good??)\n",
    "for i in range(0, len(sunday_df.index)):\n",
    "  trip = sunday_df.iloc[i,4]\n",
    "  feasible_duties.append([trip])\n",
    "\n",
    "# For every duty in feasible duties add all possible next trips that are feasible as a new duty through the function\n",
    "for duty in feasible_duties:\n",
    "    feasible_duties = find_feasible_duties(duty, feasible_duties, sunday_df)\n",
    "\n",
    "\n",
    "print(len(feasible_duties))"
   ]
  },
  {
   "cell_type": "code",
   "execution_count": null,
   "metadata": {
    "colab": {
     "base_uri": "https://localhost:8080/"
    },
    "executionInfo": {
     "elapsed": 2644,
     "status": "ok",
     "timestamp": 1680529280386,
     "user": {
      "displayName": "Armand Bonn",
      "userId": "09895225065881841186"
     },
     "user_tz": -120
    },
    "id": "_-rABFhIUNbd",
    "outputId": "b42629af-534c-4a1c-8705-ee80b825d985"
   },
   "outputs": [
    {
     "name": "stdout",
     "output_type": "stream",
     "text": [
      "93\n"
     ]
    }
   ],
   "source": [
    "sunday_df = pd.read_excel(r\"/content/gdrive/My Drive/data logistics/DataCase1.xlsx\", sheet_name=\"Sunday\")\n",
    "duties_Sun_df = pd.read_excel(r\"/content/gdrive/My Drive/data logistics/chosenSun.xlsx\")\n",
    "\n",
    "# List of all chosen duties in optimization of exc. 4\n",
    "chosenduties = duties_Sun_df['duty'].tolist()\n",
    "# Charging time in minutes\n",
    "charge_time = 60\n",
    "\n",
    "\n",
    "\n",
    "# Make copy of list of chosen duties. We will change this one to shorter (i.e. with less busses)\n",
    "new_duties = chosenduties[:]\n",
    "\n",
    "for i in range(0,len(chosenduties)):\n",
    "    # Choose duty in chosen duty of exc. 4\n",
    "    duty = chosenduties[i] \n",
    "    # Take the list of trips of that duty\n",
    "    trips_duty = feasible_duties[duty-1]\n",
    "    # Take the last trip made in the duty\n",
    "    last_trip_duty = trips_duty[-1]\n",
    "    \n",
    "    # Take the end time of the last trip and end location in this duty\n",
    "    end_time_last_trip = sunday_df.iloc[last_trip_duty-1,3]\n",
    "    end_location_last_trip = \"Location \" + sunday_df.iloc[last_trip_duty-1,1]\n",
    "    \n",
    "    # Time to travel from last locaiton of duty to depot\n",
    "    deadhead_to_depot = information_deadhead[end_location_last_trip].iloc[0]\n",
    "\n",
    "    for j in range(0,len(chosenduties)):\n",
    "\n",
    "      # Take another duty to see if they are compatible\n",
    "      duty_2 = chosenduties[j]\n",
    "      # Take the list of trips for that duty\n",
    "      match_duty = feasible_duties[duty_2-1]\n",
    "      # Take the first trip for this duty\n",
    "      first_trip_duty = match_duty[0]\n",
    "\n",
    "      # take the start time and location for that first trip in the duty we tr\n",
    "      start_time_first_trip = sunday_df.iloc[first_trip_duty-1,2]\n",
    "      start_location_last_trip = \"Location \" + sunday_df.iloc[first_trip_duty-1,0]\n",
    "\n",
    "      # Go from depot to possible first trip \n",
    "      deadhead_from_depot = information_deadhead[start_location_last_trip].iloc[0]\n",
    "\n",
    "      # Compute time difference in hours and minutes between end time of last trip of the duty and start time of first trip of duty 2\n",
    "      time_diff_trips = datetime.combine(date.today(), start_time_first_trip) - datetime.combine(date.today(), end_time_last_trip)\n",
    "      days_trips, seconds_trips = time_diff_trips.days, time_diff_trips.seconds\n",
    "      hours_trips = days_trips * 24 + seconds_trips // 3600\n",
    "      minutes_trips = (seconds_trips % 3600) // 60\n",
    "      \n",
    "      # Compute total time in minutes it takes to go to depot, charge and go to next trip\n",
    "      total_time_charge_travel = deadhead_to_depot + charge_time + deadhead_from_depot\n",
    "\n",
    "      # Compute the differnce in minutes between the end time of last trip in the duty and start time of first trip in duty we try to match\n",
    "      tot_difference_minutes = hours_trips*60 + minutes_trips\n",
    "\n",
    "      # If difference between end time last and start time next is smaller than total time to travel and charge then trips not compatible \n",
    "      if (tot_difference_minutes < total_time_charge_travel) | (hours_trips < 0) | (hours_trips > 6): \n",
    "        continue\n",
    "      else:\n",
    "        # If duty was already deleted and combines stop as well\n",
    "        if (duty not in new_duties) or (duty_2 not in new_duties):\n",
    "          continue\n",
    "        else:\n",
    "        # if duties could be combined add them as a list together to new duties list\n",
    "          new_duties.append([duty, duty_2])\n",
    "          new_duties.remove(duty)\n",
    "          new_duties.remove(duty_2)\n",
    "      \n",
    "\n",
    "print(len(new_duties))"
   ]
  }
 ],
 "metadata": {
  "colab": {
   "provenance": []
  },
  "kernelspec": {
   "display_name": "Python 3",
   "name": "python3"
  },
  "language_info": {
   "codemirror_mode": {
    "name": "ipython",
    "version": 3
   },
   "file_extension": ".py",
   "mimetype": "text/x-python",
   "name": "python",
   "nbconvert_exporter": "python",
   "pygments_lexer": "ipython3",
   "version": "3.12.7"
  }
 },
 "nbformat": 4,
 "nbformat_minor": 0
}
