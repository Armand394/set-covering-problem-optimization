{
 "cells": [
  {
   "cell_type": "markdown",
   "metadata": {
    "id": "M6QkGjWGt-YR"
   },
   "source": [
    "<h1> 1. Import all necessary information and create functions to make parameters <h1>\n"
   ]
  },
  {
   "cell_type": "markdown",
   "metadata": {
    "id": "rzTN4oKPNdM5"
   },
   "source": [
    "<h2> a. Import necessary libraries <h2>"
   ]
  },
  {
   "cell_type": "code",
   "execution_count": 1,
   "metadata": {
    "colab": {
     "base_uri": "https://localhost:8080/"
    },
    "executionInfo": {
     "elapsed": 37870,
     "status": "ok",
     "timestamp": 1680689111544,
     "user": {
      "displayName": "Armand Bonn",
      "userId": "09895225065881841186"
     },
     "user_tz": -120
    },
    "id": "yHbd3yiJujhf",
    "outputId": "149f64b8-b4a4-4877-da74-f1da90c9d666"
   },
   "outputs": [],
   "source": [
    "import pandas as pd\n",
    "import numpy as np\n",
    "from datetime import datetime, date"
   ]
  },
  {
   "cell_type": "markdown",
   "metadata": {
    "id": "y1CaA2w8Nlcx"
   },
   "source": [
    "<h2> b. Acquire necassary information from deadheads and kilometers <h2>"
   ]
  },
  {
   "cell_type": "code",
   "execution_count": 2,
   "metadata": {
    "colab": {
     "base_uri": "https://localhost:8080/"
    },
    "executionInfo": {
     "elapsed": 1735,
     "status": "ok",
     "timestamp": 1680689192604,
     "user": {
      "displayName": "Armand Bonn",
      "userId": "09895225065881841186"
     },
     "user_tz": -120
    },
    "id": "1_69Tq279L6i",
    "outputId": "2b35d53b-0ad7-4200-85c5-7166677d1fda"
   },
   "outputs": [
    {
     "name": "stderr",
     "output_type": "stream",
     "text": [
      "<ipython-input-2-8d275872aea1>:20: SettingWithCopyWarning: \n",
      "A value is trying to be set on a copy of a slice from a DataFrame\n",
      "\n",
      "See the caveats in the documentation: https://pandas.pydata.org/pandas-docs/stable/user_guide/indexing.html#returning-a-view-versus-a-copy\n",
      "  kilometers_information.iloc[0,0] = \"Location\"\n"
     ]
    }
   ],
   "source": [
    "information = pd.read_excel(r\"/content/gdrive/My Drive/data logistics/DataCase1.xlsx\", sheet_name=\"General\")\n",
    "\n",
    "# Make matrix of all deadhead times\n",
    "# Select all rows in first sheet that contain information about deadhead times\n",
    "information_deadhead = information.iloc[5:11,:]\n",
    "# Reset index of rows\n",
    "information_deadhead = information_deadhead.reset_index(drop=True)\n",
    "# Name the index as Location so that it is clear what the index is about (in this case: Location A, Location B ect.)\n",
    "information_deadhead.iloc[0,0] = \"Location\"\n",
    "# Change the columns so that columns are also Location A, Location B, ect. such that we will have a matrix with the locations in the columns and rows and the values of deadhead in the matrix.\n",
    "columns_deadhead = information_deadhead.iloc[0,:]\n",
    "information_deadhead.columns = columns_deadhead\n",
    "# Delete first row wich used to the names of the location (they are now set as the column names)\n",
    "information_deadhead = information_deadhead.iloc[1:,:]\n",
    "information_deadhead = information_deadhead.set_index('Location')\n",
    "\n",
    "# Select all rows in first sheet that contain information about distances\n",
    "kilometers_information = information.iloc[13:19,:]\n",
    "# Name the index as Location so that it is clear what the index is about (in this case: Location A, Location B ect.)\n",
    "kilometers_information.iloc[0,0] = \"Location\"\n",
    "# Change the columns so that columns are also Location A, Location B, ect. such that we will have a matrix with the locations in the columns and rows and the values of kilometer in the matrix.\n",
    "columns_deadhead = kilometers_information.iloc[0,:]\n",
    "kilometers_information.columns = columns_deadhead\n",
    "# Delete first row wich used to the names of the location (they are now set as the column names)\n",
    "kilometers_information = kilometers_information.iloc[1:,:]\n",
    "kilometers_information = kilometers_information.set_index('Location')"
   ]
  },
  {
   "cell_type": "markdown",
   "metadata": {
    "id": "ntownpyf3ek4"
   },
   "source": [
    "<h2> c. Funtion to find all feasible trips that can be added to a given duty given <h2>\n"
   ]
  },
  {
   "cell_type": "code",
   "execution_count": 3,
   "metadata": {
    "executionInfo": {
     "elapsed": 583,
     "status": "ok",
     "timestamp": 1680689196919,
     "user": {
      "displayName": "Armand Bonn",
      "userId": "09895225065881841186"
     },
     "user_tz": -120
    },
    "id": "ztUTRm7_w7sX"
   },
   "outputs": [],
   "source": [
    "# Give the list of feasible duties so we can make it larger when we find new feasible duties in the funciton (feasible duties)\n",
    "# Give the duty we want to find all feasible from (duty)\n",
    "# Give data with information of times of trips (bus_planning_df)\n",
    "def find_feasible_duties(duty, feasible_duties, bus_planning_df):\n",
    "  # Take the last trip in the duty, this trip has just ended we want to find if there are other feasible trips\n",
    "  last_trip = duty[-1]\n",
    "  # Take index of that trip, since index start at 0\n",
    "  index = last_trip - 1\n",
    "  # Take end time and location of the last trip made in the duty\n",
    "  end_time_trip = bus_planning_df.iloc[index,3]\n",
    "  end_location_trip = str(bus_planning_df.iloc[index,1])\n",
    "\n",
    "\n",
    "  for j in range (0,len(bus_planning_df.index)):\n",
    "    # Make copy of current duty\n",
    "    new_duty = duty[:]\n",
    "    # Take for all possible trips start time and location to see if compatible\n",
    "    start_time_next = bus_planning_df.iloc[j,2]\n",
    "    start_location_next = str(bus_planning_df.iloc[j,0])\n",
    "    \n",
    "    # Compute time difference in hours and minutes\n",
    "    time_diff = datetime.combine(date.today(), start_time_next) - datetime.combine(date.today(), end_time_trip)\n",
    "    days, seconds = time_diff.days, time_diff.seconds\n",
    "    hours = days * 24 + seconds // 3600\n",
    "    minutes = (seconds % 3600) // 60\n",
    "\n",
    "    # If last trip of duty compatible with selected trip j and no deadhead (i.e. same location), append this trip to new duty\n",
    "    if (hours >= 0) & (hours < 1) & (minutes <= 50) & (start_location_next == end_location_trip):\n",
    "          new_duty.append(j+1)\n",
    "          # Append new created duty to feasible duties\n",
    "          feasible_duties.append(new_duty)\n",
    "  \n",
    "\n",
    "  # When all new duties have been created and added to feasible duties return the bigger list of feasible duties\n",
    "  return feasible_duties\n"
   ]
  },
  {
   "cell_type": "markdown",
   "metadata": {
    "id": "L30qW5uX1mPq"
   },
   "source": [
    "<h2> d. Function to make covering matrix with list of feasible duties <h2>"
   ]
  },
  {
   "cell_type": "code",
   "execution_count": 4,
   "metadata": {
    "executionInfo": {
     "elapsed": 188,
     "status": "ok",
     "timestamp": 1680689199893,
     "user": {
      "displayName": "Armand Bonn",
      "userId": "09895225065881841186"
     },
     "user_tz": -120
    },
    "id": "oTPRy8A01tDr"
   },
   "outputs": [],
   "source": [
    "def create_covering_matrix(feas_duties, bus_plan_df):\n",
    "  # Initiate zeros matrix to start the covering matrix for the constraint\n",
    "  cover_matrix = pd.DataFrame(np.zeros((len(bus_plan_df.index), len(feas_duties))))\n",
    "\n",
    "  # Loop over all columns (i.e. duties)\n",
    "  for i in range(0,len(feas_duties)):\n",
    "    # Select a duty\n",
    "    duty = feas_duties[i]\n",
    "    for j in range(0, len(duty)):\n",
    "        # For every trip in that duty we want to take the index and give it 1 for the assigned column of that duty\n",
    "        trip = duty[j]\n",
    "        index = trip - 1\n",
    "        cover_matrix.iloc[index,i] = 1\n",
    "\n",
    "  return cover_matrix\n"
   ]
  },
  {
   "cell_type": "markdown",
   "metadata": {
    "id": "KQK73BhQ3AaN"
   },
   "source": [
    "<h2> e. Function to make cost vector <h2>"
   ]
  },
  {
   "cell_type": "code",
   "execution_count": 12,
   "metadata": {
    "executionInfo": {
     "elapsed": 205,
     "status": "ok",
     "timestamp": 1680690134489,
     "user": {
      "displayName": "Armand Bonn",
      "userId": "09895225065881841186"
     },
     "user_tz": -120
    },
    "id": "Gs8r-qll2Xmt"
   },
   "outputs": [],
   "source": [
    "def create_cost_vector(feas_duties, bus_plan_df):\n",
    "    # Initiate vector of cost of all duties \n",
    "  cost = [0] * len(feas_duties)\n",
    "\n",
    "  # Create cost for every duty\n",
    "  for i in range(0,len(feas_duties)):\n",
    "      # Select duty i\n",
    "      duty = feas_duties[i]\n",
    "      # Select index of first trip for duty i\n",
    "      first_trip = (duty[0] - 1)\n",
    "      # See what starting location is of first trip\n",
    "      location_first = bus_plan_df.iloc[first_trip,0]\n",
    "      location_first_str = \"Location \" + location_first\n",
    "      # Select km and deadheads to the first start location\n",
    "      kilometers = kilometers_information[location_first_str]\n",
    "      deadhead = information_deadhead[location_first_str]\n",
    "      # Select km and deadheads from depot to first start location\n",
    "      kilometers_information_first = kilometers.iloc[0]\n",
    "      deadhead_information_first = deadhead.iloc[0]\n",
    "\n",
    "      # Add costs depending to traveltime, traveldistance and fixed costs\n",
    "      cost[i] = 2*kilometers_information_first + 0.5*deadhead_information_first + 100\n",
    "\n",
    "      # Select last trip of duty i\n",
    "      last_trip = (duty[-1] - 1)\n",
    "      # See what ending location of last trip is\n",
    "      location_last = bus_plan_df.iloc[last_trip,1]\n",
    "      location_last_str = \"Location \" + location_last\n",
    "      # Select all km and deadhead to/from last location\n",
    "      kilometers = kilometers_information[location_last_str]\n",
    "      deadhead = information_deadhead[location_last_str]\n",
    "      # Select km and deadheads from last location to depot\n",
    "      kilometers_information_last = kilometers.iloc[0]\n",
    "      deadhead_information_last = deadhead.iloc[0]\n",
    "\n",
    "      # Add costs to depot to last location\n",
    "      cost[i] =  cost[i] + (2*kilometers_information_last + 0.5*deadhead_information_last)\n",
    "\n",
    "\n",
    "      # Loop over all elements in duty to find traveltime and costs in between\n",
    "      for j in range(0,len(duty)-1):\n",
    "        # Take first and and second elements of duty\n",
    "        index_trip = duty[j] - 1\n",
    "        index_next = duty[j+1] - 1\n",
    "\n",
    "        # Select their end trip and next start trip\n",
    "        end_time_trip = bus_plan_df.iloc[index_trip,3]\n",
    "        start_time_next = bus_plan_df.iloc[index_next,2]\n",
    "\n",
    "        # Compute time difference \n",
    "        time_diff = datetime.combine(date.today(), start_time_next) - datetime.combine(date.today(), end_time_trip)\n",
    "        days, seconds = time_diff.days, time_diff.seconds\n",
    "        hours = days * 24 + seconds // 3600\n",
    "        minutes = (seconds % 3600) // 60\n",
    "\n",
    "        # Add waiting time between trips in duty to costs\n",
    "        cost[i] =  cost[i] + minutes * 0.5 + hours * 30\n",
    "\n",
    "\n",
    "  cost_vector = pd.DataFrame(cost, columns=['costs'])\n",
    "\n",
    "  return cost_vector"
   ]
  },
  {
   "cell_type": "markdown",
   "metadata": {
    "id": "Lnudr4sz3sDi"
   },
   "source": [
    "<h1> 2. Monday-Friday set covering formulation <h1>\n",
    " <h2> a. Find all feasible duties Monday-Friday, Saturday and Sunday <h2>"
   ]
  },
  {
   "cell_type": "code",
   "execution_count": 6,
   "metadata": {
    "executionInfo": {
     "elapsed": 29992,
     "status": "ok",
     "timestamp": 1680689237635,
     "user": {
      "displayName": "Armand Bonn",
      "userId": "09895225065881841186"
     },
     "user_tz": -120
    },
    "id": "gtupHIGEt1Ro"
   },
   "outputs": [],
   "source": [
    "# Import informaiton of bus trips for monda-friday\n",
    "mofri_df = pd.read_excel(r\"/content/gdrive/My Drive/data logistics/DataCase1.xlsx\", sheet_name=\"Monday-Friday\")\n",
    " \n",
    "# Initiate list of all feasible duties\n",
    "feasible_duties_mf = []\n",
    "\n",
    "# Make a column to number independent the trips in the data\n",
    "mofri_df['Trip'] = list(range(1,(len(mofri_df.index)+1)))\n",
    "\n",
    "# Initiate feasible duties by starting with all single trips\n",
    "# TD - (loop good??)\n",
    "for i in range(0, len(mofri_df.index)):\n",
    "  trip = mofri_df.iloc[i,4]\n",
    "  feasible_duties_mf.append([trip])\n",
    "\n",
    "# For every duty in feasible duties add all possible next trips that are feasible as a new duty through the function\n",
    "for duty in feasible_duties_mf:\n",
    "    feasible_duties_mf = find_feasible_duties(duty, feasible_duties_mf, mofri_df)\n",
    "\n"
   ]
  },
  {
   "cell_type": "code",
   "execution_count": 7,
   "metadata": {
    "executionInfo": {
     "elapsed": 6932,
     "status": "ok",
     "timestamp": 1680689256544,
     "user": {
      "displayName": "Armand Bonn",
      "userId": "09895225065881841186"
     },
     "user_tz": -120
    },
    "id": "MpzKRfpLQ_UG"
   },
   "outputs": [],
   "source": [
    "# Import informaiton of bus trips for monda-friday\n",
    "Saturday_df = pd.read_excel(r\"/content/gdrive/My Drive/data logistics/DataCase1.xlsx\", sheet_name=\"Saturday\")\n",
    " \n",
    "# Initiate list of all feasible duties\n",
    "feasible_duties_sat = []\n",
    "\n",
    "# Make a column to number independent the trips in the data\n",
    "Saturday_df['Trip'] = list(range(1,(len(Saturday_df.index)+1)))\n",
    "\n",
    "# Initiate feasible duties by starting with all single trips\n",
    "# TD - (loop good??)\n",
    "for i in range(0, len(Saturday_df.index)):\n",
    "  trip = Saturday_df.iloc[i,4]\n",
    "  feasible_duties_sat.append([trip])\n",
    "\n",
    "# For every duty in feasible duties add all possible next trips that are feasible as a new duty through the function\n",
    "for duty in feasible_duties_sat:\n",
    "    feasible_duties_sat = find_feasible_duties(duty, feasible_duties_sat, Saturday_df)\n"
   ]
  },
  {
   "cell_type": "code",
   "execution_count": 9,
   "metadata": {
    "executionInfo": {
     "elapsed": 204335,
     "status": "ok",
     "timestamp": 1680689626065,
     "user": {
      "displayName": "Armand Bonn",
      "userId": "09895225065881841186"
     },
     "user_tz": -120
    },
    "id": "fVZ_hBQRW9u-"
   },
   "outputs": [],
   "source": [
    "# Import informaiton of bus trips for monda-friday\n",
    "sunday_df = pd.read_excel(r\"/content/gdrive/My Drive/data logistics/DataCase1.xlsx\", sheet_name=\"Sunday\")\n",
    " \n",
    "# Initiate list of all feasible duties\n",
    "feasible_duties_sun = []\n",
    "\n",
    "# Make a column to number independent the trips in the data\n",
    "sunday_df['Trip'] = list(range(1,(len(sunday_df.index)+1)))\n",
    "\n",
    "# Initiate feasible duties by starting with all single trips\n",
    "# TD - (loop good??)\n",
    "for i in range(0, len(sunday_df.index)):\n",
    "  trip = sunday_df.iloc[i,4]\n",
    "  feasible_duties_sun.append([trip])\n",
    "\n",
    "# For every duty in feasible duties add all possible next trips that are feasible as a new duty through the function\n",
    "for duty in feasible_duties_sun:\n",
    "    feasible_duties_sun = find_feasible_duties(duty, feasible_duties_sun, sunday_df)\n"
   ]
  },
  {
   "cell_type": "markdown",
   "metadata": {
    "id": "6hknSx0X37VM"
   },
   "source": [
    "<h2> b. Create covering matrix for Monday-Friday, Saturday and Sunday <h2>"
   ]
  },
  {
   "cell_type": "code",
   "execution_count": 10,
   "metadata": {
    "executionInfo": {
     "elapsed": 21381,
     "status": "ok",
     "timestamp": 1680690108757,
     "user": {
      "displayName": "Armand Bonn",
      "userId": "09895225065881841186"
     },
     "user_tz": -120
    },
    "id": "1ARtV3u6331v"
   },
   "outputs": [],
   "source": [
    "covering_mofri = create_covering_matrix(feasible_duties_mf, mofri_df)\n",
    "covering_sat = create_covering_matrix(feasible_duties_sat, Saturday_df)\n",
    "covering_sun = create_covering_matrix(feasible_duties_sun, sunday_df)\n",
    "\n",
    "\n",
    "covering_mofri.to_excel(\"/content/gdrive/My Drive/data logistics/covering_matrix_MoFri_v2.xlsx\")\n",
    "covering_sat.to_excel(\"/content/gdrive/My Drive/data logistics/covering_matrix_Sat_v2.xlsx\")\n",
    "covering_sun.to_csv(\"/content/gdrive/My Drive/data logistics/covering_matrix_Sun_v2.csv\")\n",
    "\n"
   ]
  },
  {
   "cell_type": "markdown",
   "metadata": {
    "id": "T-kw1zF54_EX"
   },
   "source": [
    "<h2> c. Create cost vectors for Monday-Friday, Saturday and Sunday <h2>"
   ]
  },
  {
   "cell_type": "code",
   "execution_count": 11,
   "metadata": {
    "colab": {
     "base_uri": "https://localhost:8080/"
    },
    "executionInfo": {
     "elapsed": 11459,
     "status": "ok",
     "timestamp": 1680690122481,
     "user": {
      "displayName": "Armand Bonn",
      "userId": "09895225065881841186"
     },
     "user_tz": -120
    },
    "id": "7mBYsVQ95Q_u",
    "outputId": "9d7e2bf7-e663-4011-be8d-6c25caaea939"
   },
   "outputs": [
    {
     "name": "stdout",
     "output_type": "stream",
     "text": [
      "[105, 29, 109, 33, 113, 37, 117]\n",
      "[79, 29, 83, 33, 87, 37, 91]\n",
      "[118, 54, 147, 45, 138, 36, 129, 182]\n"
     ]
    }
   ],
   "source": [
    "cost_mofri = create_cost_vector(feasible_duties_mf, mofri_df)\n",
    "cost_sat = create_cost_vector(feasible_duties_sat, Saturday_df)\n",
    "cost_sun = create_cost_vector(feasible_duties_sun, sunday_df)\n",
    "\n",
    "cost_mofri.to_excel(\"/content/gdrive/My Drive/data logistics/Cost_vector_MoFri_v2.xlsx\")\n",
    "cost_sat.to_excel(\"/content/gdrive/My Drive/data logistics/Cost_vector_Saturday_v2.xlsx\")\n",
    "cost_sun.to_excel(\"/content/gdrive/My Drive/data logistics/Cost_vector_Sunday_v2.xlsx\")\n"
   ]
  }
 ],
 "metadata": {
  "colab": {
   "authorship_tag": "ABX9TyNGfL6HGhWu9rpWBUuNgOyo",
   "provenance": []
  },
  "kernelspec": {
   "display_name": "Python 3",
   "name": "python3"
  },
  "language_info": {
   "codemirror_mode": {
    "name": "ipython",
    "version": 3
   },
   "file_extension": ".py",
   "mimetype": "text/x-python",
   "name": "python",
   "nbconvert_exporter": "python",
   "pygments_lexer": "ipython3",
   "version": "3.12.7"
  }
 },
 "nbformat": 4,
 "nbformat_minor": 0
}
