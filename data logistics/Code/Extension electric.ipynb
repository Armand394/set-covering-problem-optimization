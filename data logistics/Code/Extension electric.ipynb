{
 "cells": [
  {
   "cell_type": "markdown",
   "metadata": {
    "id": "M6QkGjWGt-YR"
   },
   "source": [
    "<h1> 1. Import all necessary information and create functions to make parameters <h1>\n",
    "\n",
    "\n"
   ]
  },
  {
   "cell_type": "markdown",
   "metadata": {
    "id": "rzTN4oKPNdM5"
   },
   "source": [
    "<h2> a. Import necessary libraries <h2>"
   ]
  },
  {
   "cell_type": "code",
   "execution_count": 2,
   "metadata": {
    "colab": {
     "base_uri": "https://localhost:8080/"
    },
    "executionInfo": {
     "elapsed": 2189,
     "status": "ok",
     "timestamp": 1680700799353,
     "user": {
      "displayName": "Armand Bonn",
      "userId": "09895225065881841186"
     },
     "user_tz": -120
    },
    "id": "yHbd3yiJujhf",
    "outputId": "fdb41f66-c66d-4533-905a-7700b21b589e"
   },
   "outputs": [],
   "source": [
    "import pandas as pd\n",
    "import numpy as np\n",
    "from datetime import datetime, date"
   ]
  },
  {
   "cell_type": "markdown",
   "metadata": {
    "id": "y1CaA2w8Nlcx"
   },
   "source": [
    "<h2> b. Acquire necassary information from deadheads and kilometers <h2>"
   ]
  },
  {
   "cell_type": "code",
   "execution_count": 39,
   "metadata": {
    "colab": {
     "base_uri": "https://localhost:8080/"
    },
    "executionInfo": {
     "elapsed": 216,
     "status": "ok",
     "timestamp": 1680700803744,
     "user": {
      "displayName": "Armand Bonn",
      "userId": "09895225065881841186"
     },
     "user_tz": -120
    },
    "id": "1_69Tq279L6i",
    "outputId": "56c22129-3310-4a23-b02a-81327929d09b"
   },
   "outputs": [
    {
     "name": "stderr",
     "output_type": "stream",
     "text": [
      "<ipython-input-39-8d275872aea1>:20: SettingWithCopyWarning: \n",
      "A value is trying to be set on a copy of a slice from a DataFrame\n",
      "\n",
      "See the caveats in the documentation: https://pandas.pydata.org/pandas-docs/stable/user_guide/indexing.html#returning-a-view-versus-a-copy\n",
      "  kilometers_information.iloc[0,0] = \"Location\"\n"
     ]
    }
   ],
   "source": [
    "information = pd.read_excel(r\"/content/gdrive/My Drive/data logistics/DataCase1.xlsx\", sheet_name=\"General\")\n",
    "\n",
    "# Make matrix of all deadhead times\n",
    "# Select all rows in first sheet that contain information about deadhead times\n",
    "information_deadhead = information.iloc[5:11,:]\n",
    "# Reset index of rows\n",
    "information_deadhead = information_deadhead.reset_index(drop=True)\n",
    "# Name the index as Location so that it is clear what the index is about (in this case: Location A, Location B ect.)\n",
    "information_deadhead.iloc[0,0] = \"Location\"\n",
    "# Change the columns so that columns are also Location A, Location B, ect. such that we will have a matrix with the locations in the columns and rows and the values of deadhead in the matrix.\n",
    "columns_deadhead = information_deadhead.iloc[0,:]\n",
    "information_deadhead.columns = columns_deadhead\n",
    "# Delete first row wich used to the names of the location (they are now set as the column names)\n",
    "information_deadhead = information_deadhead.iloc[1:,:]\n",
    "information_deadhead = information_deadhead.set_index('Location')\n",
    "\n",
    "# Select all rows in first sheet that contain information about distances\n",
    "kilometers_information = information.iloc[13:19,:]\n",
    "# Name the index as Location so that it is clear what the index is about (in this case: Location A, Location B ect.)\n",
    "kilometers_information.iloc[0,0] = \"Location\"\n",
    "# Change the columns so that columns are also Location A, Location B, ect. such that we will have a matrix with the locations in the columns and rows and the values of kilometer in the matrix.\n",
    "columns_deadhead = kilometers_information.iloc[0,:]\n",
    "kilometers_information.columns = columns_deadhead\n",
    "# Delete first row wich used to the names of the location (they are now set as the column names)\n",
    "kilometers_information = kilometers_information.iloc[1:,:]\n",
    "kilometers_information = kilometers_information.set_index('Location')"
   ]
  },
  {
   "cell_type": "markdown",
   "metadata": {
    "id": "ntownpyf3ek4"
   },
   "source": [
    "<h2> c. Funtion to find all feasible trips that can be added to a given duty given <h2>\n"
   ]
  },
  {
   "cell_type": "code",
   "execution_count": 51,
   "metadata": {
    "executionInfo": {
     "elapsed": 2,
     "status": "ok",
     "timestamp": 1680703331253,
     "user": {
      "displayName": "Armand Bonn",
      "userId": "09895225065881841186"
     },
     "user_tz": -120
    },
    "id": "ztUTRm7_w7sX"
   },
   "outputs": [],
   "source": [
    "# Give the list of feasible duties so we can make it larger when we find new feasible duties in the funciton (feasible duties)\n",
    "# Give the duty we want to find all feasible from (duty)\n",
    "# Give data with information of times of trips (bus_planning_df)\n",
    "def find_feasible_duties(duty, feasible_duties, bus_planning_df):\n",
    "  max_time = 8*60\n",
    "  # Take the last trip in the duty, this trip has just ended we want to find if there are other feasible trips\n",
    "  index_last = duty[-1] -1\n",
    "  # Take index of that trip, since index start at 0\n",
    "  index_first = duty[0] - 1\n",
    "\n",
    "  # Take end time and location of the last trip made in the duty\n",
    "  end_time_trip = bus_planning_df.iloc[index_last,3]\n",
    "  end_location_trip = str(bus_planning_df.iloc[index_last,1])\n",
    "  \n",
    "  # Get start time of first trip in duty and retreive information\n",
    "  start_time_first = bus_planning_df.iloc[index_first,2]\n",
    "  start_location_trip = str(bus_planning_df.iloc[index_first,0])\n",
    "  location_first_str = \"Location \" + start_location_trip\n",
    "\n",
    "  deadhead_col_to_start = information_deadhead[location_first_str]\n",
    "  deadhead_to_start = deadhead_col_to_start.iloc[0]\n",
    "\n",
    "  for i in range(0,(len(duty)-1)):\n",
    "      trip = duty[i]\n",
    "      trip_next = duty[i+1]\n",
    "      end_time = bus_planning_df.iloc[trip-1,3]\n",
    "      start_time = bus_planning_df.iloc[trip_next-1,2]\n",
    "      end_location = \"Location \" + bus_planning_df.iloc[trip-1,1]\n",
    "      start_location = bus_planning_df.iloc[trip_next-1,0]\n",
    "      end_deadhead = information_deadhead[end_location]\n",
    "\n",
    "      # Select the correct deadhead time between the end location of the selected trip i and start trip of next trip j\n",
    "      if (start_location == \"A\") :\n",
    "        deadhead = end_deadhead.iloc[1]\n",
    "      elif (start_location == \"B\") :\n",
    "        deadhead = end_deadhead.iloc[2]\n",
    "      elif (start_location == \"C\") :\n",
    "        deadhead = end_deadhead.iloc[3]\n",
    "      else :\n",
    "        deadhead = end_deadhead.iloc[4]\n",
    "\n",
    "      # Compute time difference in hours and minutes between end time of end location and and start time of first location of duty\n",
    "      time_diff_duty = datetime.combine(date.today(), start_time) - datetime.combine(date.today(), end_time)\n",
    "      days, seconds = time_diff_duty.days, time_diff_duty.seconds\n",
    "      hours = days * 24 + seconds // 3600\n",
    "      minutes = (seconds % 3600) // 60\n",
    "\n",
    "      difference_minutes = hours*60 + minutes\n",
    "\n",
    "      max_time += (difference_minutes - deadhead)*2\n",
    "\n",
    "\n",
    "  for j in range (0,len(bus_planning_df.index)):\n",
    "    # Make copy of current duty\n",
    "    new_duty = duty[:]\n",
    "    # Take for all possible trips start time and location to see if compatible\n",
    "    start_time_next = bus_planning_df.iloc[j,2]\n",
    "    start_location_next = str(bus_planning_df.iloc[j,0])\n",
    "    start_location_str = \"Location \" + start_location_next\n",
    "    \n",
    "    # Select the column of the start location with all the deadhead times\n",
    "    deadheads_to_next = information_deadhead[start_location_str]\n",
    "\n",
    "    # Select the correct deadhead time between the end location of the selected trip i and start trip of next trip j\n",
    "    if (end_location_trip == \"A\") :\n",
    "      deadhead_to_next = deadheads_to_next.iloc[1]\n",
    "    elif (end_location_trip == \"B\") :\n",
    "      deadhead_to_next = deadheads_to_next.iloc[2]\n",
    "    elif (end_location_trip == \"C\") :\n",
    "      deadhead_to_next = deadheads_to_next.iloc[3]\n",
    "    else :\n",
    "      deadhead_to_next = deadheads_to_next.iloc[4]\n",
    "    \n",
    "    # Compute time difference in hours and minutes between end time of end location and and start time of next location\n",
    "    time_diff_trips = datetime.combine(date.today(), start_time_next) - datetime.combine(date.today(), end_time_trip)\n",
    "    days_trips, seconds_trips = time_diff_trips.days, time_diff_trips.seconds\n",
    "    hours_trips = days_trips * 24 + seconds_trips // 3600\n",
    "    minutes_trips = (seconds_trips % 3600) // 60\n",
    "    \n",
    "    tot_difference_minutes = hours_trips*60 + minutes_trips\n",
    "\n",
    "    # If difference between end time last and start time next is smaller than deadhead then trips not compatible \n",
    "    if (tot_difference_minutes < deadhead_to_next) | (hours_trips < 0) | (hours_trips > 6): \n",
    "      continue\n",
    "\n",
    "    # Take for all possible trips start time and location to see if compatible\n",
    "    end_time_next = bus_planning_df.iloc[j,3]\n",
    "    end_location_next = str(bus_planning_df.iloc[j,1])\n",
    "    end_next_location_str = \"Location \" + end_location_next\n",
    "    end_next_deadhead = information_deadhead[end_next_location_str]\n",
    "    deadhead_end_next_to_depot = end_next_deadhead.iloc[0]\n",
    "\n",
    "\n",
    "    # Compute time difference in hours and minutes between end time of end location and and start time of first location of duty\n",
    "    time_diff_duty = datetime.combine(date.today(), end_time_next) - datetime.combine(date.today(), start_time_first)\n",
    "    days, seconds = time_diff_duty.days, time_diff_duty.seconds\n",
    "    hours = days * 24 + seconds // 3600\n",
    "    minutes = (seconds % 3600) // 60\n",
    "\n",
    "    # If difference between end time last and start time next is smaller than deadhead then trips not compatible, if time waiting if more than 50minutes not compatible\n",
    "    if ((tot_difference_minutes - deadhead_to_next) > 120) | (hours < 0):\n",
    "      continue\n",
    "\n",
    "    max_time_current = max_time + (tot_difference_minutes - deadhead_to_next)*2\n",
    "\n",
    "    # Compute the total time the bus has riden if this trip would be added and would go to depot after\n",
    "    tot_minutes_duty = hours*60 + minutes + deadhead_to_start + deadhead_end_next_to_depot\n",
    "\n",
    "    # If last trip of duty compatible with selected trip j and no deadhead (i.e. same location), append this trip to new duty\n",
    "    if (tot_minutes_duty <= max_time_current):\n",
    "          trip = j+1\n",
    "          new_duty.append(trip)\n",
    "          # Append new created duty to feasible duties\n",
    "          feasible_duties.append(new_duty)\n",
    "  \n",
    "\n",
    "  # When all new duties have been created and added to feasible duties return the bigger list of feasible duties\n",
    "  return feasible_duties\n"
   ]
  },
  {
   "cell_type": "markdown",
   "metadata": {
    "id": "B5Bxb0dUxpxv"
   },
   "source": [
    "<h2> d. function to compute covering matrix <h2>"
   ]
  },
  {
   "cell_type": "code",
   "execution_count": 41,
   "metadata": {
    "executionInfo": {
     "elapsed": 735,
     "status": "ok",
     "timestamp": 1680700828211,
     "user": {
      "displayName": "Armand Bonn",
      "userId": "09895225065881841186"
     },
     "user_tz": -120
    },
    "id": "OOXFXsV3xo8A"
   },
   "outputs": [],
   "source": [
    "def create_covering_matrix(feas_duties, bus_plan_df):\n",
    "  # Initiate zeros matrix to start the covering matrix for the constraint\n",
    "  cover_matrix = pd.DataFrame(np.zeros((len(bus_plan_df.index), len(feas_duties))))\n",
    "\n",
    "  # Loop over all columns (i.e. duties)\n",
    "  for i in range(0,len(feas_duties)):\n",
    "    # Select a duty\n",
    "    duty = feas_duties[i]\n",
    "    for j in range(0, len(duty)):\n",
    "        # For every trip in that duty we want to take the index and give it 1 for the assigned column of that duty\n",
    "        trip = duty[j]\n",
    "        index = trip - 1\n",
    "        cover_matrix.iloc[index,i] = 1\n",
    "\n",
    "  return cover_matrix"
   ]
  },
  {
   "cell_type": "markdown",
   "metadata": {
    "id": "MU3T4IA_8itl"
   },
   "source": [
    "<h2> e. Function to compute cost vector <h2>"
   ]
  },
  {
   "cell_type": "code",
   "execution_count": 42,
   "metadata": {
    "executionInfo": {
     "elapsed": 2,
     "status": "ok",
     "timestamp": 1680700830216,
     "user": {
      "displayName": "Armand Bonn",
      "userId": "09895225065881841186"
     },
     "user_tz": -120
    },
    "id": "8Y5vN1498vkt"
   },
   "outputs": [],
   "source": [
    "def create_cost_vector(feas_duties, bus_plan_df):\n",
    "\n",
    "  # Initiate vector of cost of all duties \n",
    "  cost = [0] * len(feas_duties)\n",
    "\n",
    "  # Create cost for every duty\n",
    "  for i in range(0,len(feas_duties)):\n",
    "      # Select duty i\n",
    "      duty = feas_duties[i]\n",
    "      # Select index of first trip for duty i\n",
    "      first_trip = (duty[0] - 1)\n",
    "      # See what starting location is of first trip\n",
    "      location_first = bus_plan_df.iloc[first_trip,0]\n",
    "      location_first_str = \"Location \" + location_first\n",
    "      # Select km and deadheads to the first start location\n",
    "      kilometers = kilometers_information[location_first_str]\n",
    "      deadhead = information_deadhead[location_first_str]\n",
    "      # Select km and deadheads from depot to first start location\n",
    "      kilometers_information_first = kilometers.iloc[0]\n",
    "      deadhead_information_first = deadhead.iloc[0]\n",
    "\n",
    "      # Add costs depending to traveltime, traveldistance and fixed costs\n",
    "      cost[i] = 2*kilometers_information_first + 0.5*deadhead_information_first + 100\n",
    "\n",
    "      # Select last trip of duty i\n",
    "      last_trip = (duty[-1] - 1)\n",
    "      # See what ending location of last trip is\n",
    "      location_last = bus_plan_df.iloc[last_trip,1]\n",
    "      location_last_str = \"Location \" + location_last\n",
    "      # Select all km and deadhead to/from last location\n",
    "      kilometers = kilometers_information[location_last_str]\n",
    "      deadhead = information_deadhead[location_last_str]\n",
    "      # Select km and deadheads from last location to depot\n",
    "      kilometers_information_last = kilometers.iloc[0]\n",
    "      deadhead_information_last = deadhead.iloc[0]\n",
    "      # Add costs to depot to last location\n",
    "      cost[i] =  cost[i] + (2*kilometers_information_last + 0.5*deadhead_information_last)\n",
    "\n",
    "\n",
    "      # Loop over all elements in duty to find traveltime and costs in between\n",
    "      for j in range(0,len(duty)-1):\n",
    "        # Take first and and second elements of duty\n",
    "        index_trip = duty[j] - 1\n",
    "        index_next = duty[j+1] - 1\n",
    "\n",
    "        # Select their end trip and next start trip\n",
    "        end_time_trip = bus_plan_df.iloc[index_trip,3]\n",
    "        start_time_next = bus_plan_df.iloc[index_next,2]\n",
    "\n",
    "        # Select their end trip and next start trip\n",
    "        end_location_trip = bus_plan_df.iloc[index_trip,1]\n",
    "        start_location_next = bus_plan_df.iloc[index_next,0]\n",
    "        end_str = \"Location \" + end_location_trip\n",
    "\n",
    "\n",
    "        # Select the column of the start location with all the deadhead times\n",
    "        km_to_next = kilometers_information[end_str]\n",
    "\n",
    "        # Select the correct deadhead time between the end location of the selected trip i and start trip of next trip j\n",
    "        if (start_location_next == \"A\") :\n",
    "          km_to_next = km_to_next.iloc[1]\n",
    "        elif (start_location_next == \"B\") :\n",
    "          km_to_next = km_to_next.iloc[2]\n",
    "        elif (start_location_next == \"C\") :\n",
    "          km_to_next = km_to_next.iloc[3]\n",
    "        else :\n",
    "          km_to_next = km_to_next.iloc[4]\n",
    "        \n",
    "        # Compute time difference\n",
    "        time_diff = datetime.combine(date.today(), start_time_next) - datetime.combine(date.today(), end_time_trip)\n",
    "        days, seconds = time_diff.days, time_diff.seconds\n",
    "        hours = days * 24 + seconds // 3600\n",
    "        minutes = (seconds % 3600) // 60\n",
    "\n",
    "        # Add waiting time between trips in duty to costs\n",
    "        cost[i] =  cost[i] + minutes * 0.5 + hours * 30 + 2*km_to_next\n",
    "\n",
    "\n",
    "  cost_vector = pd.DataFrame(cost, columns=['costs'])\n",
    "\n",
    "  return cost_vector"
   ]
  },
  {
   "cell_type": "markdown",
   "metadata": {
    "id": "Qy_-Co0b90Jk"
   },
   "source": [
    "<h1> 2. Compute parameters Monday-Friday, Saturday and Sunday <h1>\n",
    "<h2> a. Compute all feasible duties <h2>"
   ]
  },
  {
   "cell_type": "code",
   "execution_count": 52,
   "metadata": {
    "colab": {
     "base_uri": "https://localhost:8080/"
    },
    "executionInfo": {
     "elapsed": 42720,
     "status": "ok",
     "timestamp": 1680703381109,
     "user": {
      "displayName": "Armand Bonn",
      "userId": "09895225065881841186"
     },
     "user_tz": -120
    },
    "id": "-0duOe3Sx32y",
    "outputId": "aba8ff1c-3bd4-4209-f78a-7c0ad5140d20"
   },
   "outputs": [
    {
     "name": "stdout",
     "output_type": "stream",
     "text": [
      "3403\n"
     ]
    }
   ],
   "source": [
    "# Import informaiton of bus trips for monda-friday\n",
    "mofri_df = pd.read_excel(r\"/content/gdrive/My Drive/data logistics/DataCase1.xlsx\", sheet_name=\"Monday-Friday\")\n",
    " \n",
    "# Initiate list of all feasible duties\n",
    "feasible_duties_mf = []\n",
    "\n",
    "# Make a column to number the independent  trips in the data\n",
    "mofri_df['Trip'] = list(range(1,(len(mofri_df.index)+1)))\n",
    "\n",
    "# Initiate feasible duties by starting with all single trips\n",
    "# TD - (loop good??)\n",
    "for i in range(0, len(mofri_df.index)):\n",
    "  trip = mofri_df.iloc[i,4]\n",
    "  feasible_duties_mf.append([trip])\n",
    "\n",
    "# For every duty in feasible duties add all possible next trips that are feasible as a new duty through the function\n",
    "for duty in feasible_duties_mf:\n",
    "    feasible_duties_mf = find_feasible_duties(duty, feasible_duties_mf, mofri_df)\n",
    "\n",
    "\n",
    "\n",
    "print(len(feasible_duties_mf))"
   ]
  },
  {
   "cell_type": "code",
   "execution_count": 53,
   "metadata": {
    "colab": {
     "base_uri": "https://localhost:8080/"
    },
    "executionInfo": {
     "elapsed": 22840,
     "status": "ok",
     "timestamp": 1680703416807,
     "user": {
      "displayName": "Armand Bonn",
      "userId": "09895225065881841186"
     },
     "user_tz": -120
    },
    "id": "-KTSWk0laT-u",
    "outputId": "6350d5ba-0bd3-402d-d40a-18e4a19d7f09"
   },
   "outputs": [
    {
     "name": "stdout",
     "output_type": "stream",
     "text": [
      "2714\n"
     ]
    }
   ],
   "source": [
    "# Import informaiton of bus trips for monda-friday\n",
    "saturday_df = pd.read_excel(r\"/content/gdrive/My Drive/data logistics/DataCase1.xlsx\", sheet_name=\"Saturday\")\n",
    " \n",
    "# Initiate list of all feasible duties\n",
    "feasible_duties_sat = []\n",
    "\n",
    "# Make a column to number independent the trips in the data\n",
    "saturday_df['Trip'] = list(range(1,(len(saturday_df.index)+1)))\n",
    "\n",
    "# Initiate feasible duties by starting with all single trips\n",
    "# TD - (loop good??)\n",
    "for i in range(0, len(saturday_df.index)):\n",
    "  trip = saturday_df.iloc[i,4]\n",
    "  feasible_duties_sat.append([trip])\n",
    "\n",
    "# For every duty in feasible duties add all possible next trips that are feasible as a new duty through the function\n",
    "for duty in feasible_duties_sat:\n",
    "    feasible_duties_sat = find_feasible_duties(duty, feasible_duties_sat, saturday_df)\n",
    "\n",
    "\n",
    "print(len(feasible_duties_sat))"
   ]
  },
  {
   "cell_type": "code",
   "execution_count": 54,
   "metadata": {
    "colab": {
     "base_uri": "https://localhost:8080/"
    },
    "executionInfo": {
     "elapsed": 169092,
     "status": "ok",
     "timestamp": 1680703589381,
     "user": {
      "displayName": "Armand Bonn",
      "userId": "09895225065881841186"
     },
     "user_tz": -120
    },
    "id": "zmgoLO7rdnjB",
    "outputId": "86e4e28a-dd8a-446a-f49f-12c1a6abfcb6"
   },
   "outputs": [
    {
     "name": "stdout",
     "output_type": "stream",
     "text": [
      "11913\n"
     ]
    }
   ],
   "source": [
    "# Import informaiton of bus trips for monda-friday\n",
    "sunday_df = pd.read_excel(r\"/content/gdrive/My Drive/data logistics/DataCase1.xlsx\", sheet_name=\"Sunday\")\n",
    " \n",
    "# Initiate list of all feasible duties\n",
    "feasible_duties_sun = []\n",
    "\n",
    "# Make a column to number independent the trips in the data\n",
    "sunday_df['Trip'] = list(range(1,(len(sunday_df.index)+1)))\n",
    "\n",
    "# Initiate feasible duties by starting with all single trips\n",
    "# TD - (loop good??)\n",
    "for i in range(0, len(sunday_df.index)):\n",
    "  trip = sunday_df.iloc[i,4]\n",
    "  feasible_duties_sun.append([trip])\n",
    "\n",
    "# For every duty in feasible duties add all possible next trips that are feasible as a new duty through the function\n",
    "for duty in feasible_duties_sun:\n",
    "    feasible_duties_sun = find_feasible_duties(duty, feasible_duties_sun, sunday_df)\n",
    "\n",
    "\n",
    "print(len(feasible_duties_sun))\n"
   ]
  },
  {
   "cell_type": "markdown",
   "metadata": {
    "id": "QHhTw52CdnjB"
   },
   "source": [
    "<h2> b. Create covering matrices <h2>"
   ]
  },
  {
   "cell_type": "code",
   "execution_count": 55,
   "metadata": {
    "executionInfo": {
     "elapsed": 73565,
     "status": "ok",
     "timestamp": 1680703809760,
     "user": {
      "displayName": "Armand Bonn",
      "userId": "09895225065881841186"
     },
     "user_tz": -120
    },
    "id": "teC9dYyUdnjC"
   },
   "outputs": [],
   "source": [
    "covering_mofri = create_covering_matrix(feasible_duties_mf, mofri_df)\n",
    "covering_sat = create_covering_matrix(feasible_duties_sat, saturday_df)\n",
    "covering_sun = create_covering_matrix(feasible_duties_sun, sunday_df)\n",
    "\n",
    "\n",
    "covering_mofri.to_excel(\"/content/gdrive/My Drive/data logistics/covering_matrix_MoFri_extension_2min_constraint.xlsx\")\n",
    "covering_sat.to_excel(\"/content/gdrive/My Drive/data logistics/covering_matrix_Sat_electric_2min_constraint.xlsx\")\n",
    "covering_sun.to_excel(\"/content/gdrive/My Drive/data logistics/covering_matrix_Sun_electric_2min_constraint.xlsx\")\n"
   ]
  },
  {
   "cell_type": "markdown",
   "metadata": {
    "id": "Nhtut36XdnjC"
   },
   "source": [
    "<h2> c. Create cost vectors <h2>"
   ]
  },
  {
   "cell_type": "code",
   "execution_count": 57,
   "metadata": {
    "executionInfo": {
     "elapsed": 10022,
     "status": "ok",
     "timestamp": 1680703948440,
     "user": {
      "displayName": "Armand Bonn",
      "userId": "09895225065881841186"
     },
     "user_tz": -120
    },
    "id": "W3541Bgb-eTp"
   },
   "outputs": [],
   "source": [
    "cost_mofri = create_cost_vector(feasible_duties_mf, mofri_df)\n",
    "cost_sat = create_cost_vector(feasible_duties_sat, saturday_df)\n",
    "cost_sun = create_cost_vector(feasible_duties_sun, sunday_df)\n",
    "\n",
    "cost_mofri.to_excel(\"/content/gdrive/My Drive/data logistics/Cost_vector_MoFri_extension_2min_constraint.xlsx\")\n",
    "cost_sat.to_excel(\"/content/gdrive/My Drive/data logistics/Cost_vector_Sat_extension_2min_constraint.xlsx\")\n",
    "cost_sun.to_excel(\"/content/gdrive/My Drive/data logistics/Cost_vector_Sun_extension_2min_constraint.xlsx\")"
   ]
  }
 ],
 "metadata": {
  "colab": {
   "authorship_tag": "ABX9TyOjMlGob2Ulz9urb1wnlbB4",
   "provenance": []
  },
  "kernelspec": {
   "display_name": "Python 3",
   "name": "python3"
  },
  "language_info": {
   "codemirror_mode": {
    "name": "ipython",
    "version": 3
   },
   "file_extension": ".py",
   "mimetype": "text/x-python",
   "name": "python",
   "nbconvert_exporter": "python",
   "pygments_lexer": "ipython3",
   "version": "3.12.7"
  }
 },
 "nbformat": 4,
 "nbformat_minor": 0
}
